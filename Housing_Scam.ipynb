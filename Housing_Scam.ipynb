{
  "nbformat": 4,
  "nbformat_minor": 0,
  "metadata": {
    "colab": {
      "name": "Housing_Scam.ipynb",
      "provenance": [],
      "collapsed_sections": []
    },
    "kernelspec": {
      "name": "python3",
      "display_name": "Python 3"
    }
  },
  "cells": [
    {
      "cell_type": "markdown",
      "metadata": {
        "id": "z9JvePQYmypc"
      },
      "source": [
        "# Anomaly Detection of Housing Scam database"
      ]
    },
    {
      "cell_type": "code",
      "metadata": {
        "id": "KAEP_SSWI7Rt",
        "colab": {
          "base_uri": "https://localhost:8080/",
          "height": 360
        },
        "outputId": "663614fe-0342-48fb-e8b9-9c0ac56cfeeb"
      },
      "source": [
        "pip install catboost"
      ],
      "execution_count": null,
      "outputs": [
        {
          "output_type": "stream",
          "text": [
            "Collecting catboost\n",
            "\u001b[?25l  Downloading https://files.pythonhosted.org/packages/14/14/35b211f9b1c779faba8061b696760f6da743a15d7b215cd6babb211ced0c/catboost-0.18-cp36-none-manylinux1_x86_64.whl (62.9MB)\n",
            "\u001b[K     |████████████████████████████████| 62.9MB 1.2MB/s \n",
            "\u001b[?25hRequirement already satisfied: numpy>=1.16.0 in /usr/local/lib/python3.6/dist-packages (from catboost) (1.16.5)\n",
            "Requirement already satisfied: matplotlib in /usr/local/lib/python3.6/dist-packages (from catboost) (3.0.3)\n",
            "Requirement already satisfied: six in /usr/local/lib/python3.6/dist-packages (from catboost) (1.12.0)\n",
            "Requirement already satisfied: scipy in /usr/local/lib/python3.6/dist-packages (from catboost) (1.3.1)\n",
            "Requirement already satisfied: pandas>=0.24.0 in /usr/local/lib/python3.6/dist-packages (from catboost) (0.24.2)\n",
            "Requirement already satisfied: plotly in /usr/local/lib/python3.6/dist-packages (from catboost) (4.1.1)\n",
            "Requirement already satisfied: graphviz in /usr/local/lib/python3.6/dist-packages (from catboost) (0.10.1)\n",
            "Requirement already satisfied: cycler>=0.10 in /usr/local/lib/python3.6/dist-packages (from matplotlib->catboost) (0.10.0)\n",
            "Requirement already satisfied: kiwisolver>=1.0.1 in /usr/local/lib/python3.6/dist-packages (from matplotlib->catboost) (1.1.0)\n",
            "Requirement already satisfied: pyparsing!=2.0.4,!=2.1.2,!=2.1.6,>=2.0.1 in /usr/local/lib/python3.6/dist-packages (from matplotlib->catboost) (2.4.2)\n",
            "Requirement already satisfied: python-dateutil>=2.1 in /usr/local/lib/python3.6/dist-packages (from matplotlib->catboost) (2.5.3)\n",
            "Requirement already satisfied: pytz>=2011k in /usr/local/lib/python3.6/dist-packages (from pandas>=0.24.0->catboost) (2018.9)\n",
            "Requirement already satisfied: retrying>=1.3.3 in /usr/local/lib/python3.6/dist-packages (from plotly->catboost) (1.3.3)\n",
            "Requirement already satisfied: setuptools in /usr/local/lib/python3.6/dist-packages (from kiwisolver>=1.0.1->matplotlib->catboost) (41.2.0)\n",
            "Installing collected packages: catboost\n",
            "Successfully installed catboost-0.18\n"
          ],
          "name": "stdout"
        }
      ]
    },
    {
      "cell_type": "code",
      "metadata": {
        "id": "fJYWwPcdI3kM",
        "colab": {
          "base_uri": "https://localhost:8080/",
          "height": 136
        },
        "outputId": "f3eccd6e-4228-4a53-f56a-3b8b749d84c4"
      },
      "source": [
        "!apt-get install -y -qq software-properties-common python-software-properties module-init-tools\n",
        "!add-apt-repository -y ppa:alessandro-strada/ppa 2>&1 > /dev/null \n",
        "!apt-get update -qq 2>&1 > /dev/null\n",
        "!apt-get -y install -qq google-drive-ocamlfuse fuse"
      ],
      "execution_count": null,
      "outputs": [
        {
          "output_type": "stream",
          "text": [
            "E: Package 'python-software-properties' has no installation candidate\n",
            "Selecting previously unselected package google-drive-ocamlfuse.\n",
            "(Reading database ... 131183 files and directories currently installed.)\n",
            "Preparing to unpack .../google-drive-ocamlfuse_0.7.13-0ubuntu1~ubuntu18.04.1_amd64.deb ...\n",
            "Unpacking google-drive-ocamlfuse (0.7.13-0ubuntu1~ubuntu18.04.1) ...\n",
            "Setting up google-drive-ocamlfuse (0.7.13-0ubuntu1~ubuntu18.04.1) ...\n",
            "Processing triggers for man-db (2.8.3-2ubuntu0.1) ...\n"
          ],
          "name": "stdout"
        }
      ]
    },
    {
      "cell_type": "code",
      "metadata": {
        "id": "-2vrPJJgJC5G"
      },
      "source": [
        "# Generate auth tokens for Colab\n",
        "from google.colab import auth \n",
        "auth.authenticate_user()\n",
        "from oauth2client.client import GoogleCredentials \n",
        "creds = GoogleCredentials.get_application_default()\n",
        "import getpass \n",
        "!google-drive-ocamlfuse -headless -id={creds.client_id} -secret={creds.client_secret} < /dev/null 2>&1 | grep URL\n",
        "vcode = getpass.getpass() \n",
        "!echo {vcode} | google-drive-ocamlfuse -headless -id={creds.client_id} -secret={creds.client_secret}"
      ],
      "execution_count": null,
      "outputs": []
    },
    {
      "cell_type": "code",
      "metadata": {
        "id": "HDMn4R2iJUPl"
      },
      "source": [
        "!mkdir -p drive\n",
        "!google-drive-ocamlfuse drive\n",
        "print ('Files in Drive:')\n",
        "!ls drive/"
      ],
      "execution_count": null,
      "outputs": []
    },
    {
      "cell_type": "code",
      "metadata": {
        "id": "gva-_Xk5IqEw"
      },
      "source": [
        "import pandas as pd \n",
        "import numpy as np\n",
        "\n",
        "import matplotlib\n",
        "import matplotlib.pyplot as plt\n",
        "import seaborn as sns\n",
        "%matplotlib inline \n",
        "import plotly.graph_objs as go\n",
        "import plotly.figure_factory as ff\n",
        "from plotly import tools\n",
        "from plotly.offline import download_plotlyjs, init_notebook_mode, plot, iplot\n",
        "\n",
        "from sklearn.model_selection import train_test_split\n",
        "from sklearn.model_selection import KFold\n",
        "from sklearn.metrics import roc_auc_score\n",
        "from sklearn.ensemble import RandomForestClassifier\n",
        "from sklearn.ensemble import AdaBoostClassifier\n",
        "from sklearn.metrics import classification_report\n",
        "\n",
        "from sklearn.preprocessing import MinMaxScaler\n",
        "\n",
        "from catboost import CatBoostClassifier\n",
        "from sklearn import svm\n",
        "import lightgbm as lgb\n",
        "from lightgbm import LGBMClassifier\n",
        "import xgboost as xgb\n",
        "\n",
        "from datetime import datetime \n",
        "from imblearn.over_sampling import SMOTE"
      ],
      "execution_count": null,
      "outputs": []
    },
    {
      "cell_type": "markdown",
      "metadata": {
        "id": "3caNTAbmXAxN"
      },
      "source": [
        "# Data Import"
      ]
    },
    {
      "cell_type": "code",
      "metadata": {
        "id": "2PyRRW3pJowQ"
      },
      "source": [
        "df = pd.read_csv(\"drive/HA_Data_Science_train.csv\")\n",
        "df_test = pd.read_csv(\"drive/HA_Data_Science_test.csv\")"
      ],
      "execution_count": null,
      "outputs": []
    },
    {
      "cell_type": "markdown",
      "metadata": {
        "id": "LNwh2cqoKTgz"
      },
      "source": [
        "Take a look at the dataframe, this will show us what we are working with. As can be seen, the shape shows that there are 16762 rows with 15 columns. One of them is our target column 'IS_SCAMMER'"
      ]
    },
    {
      "cell_type": "code",
      "metadata": {
        "id": "Gz6oUeEXJwOH",
        "colab": {
          "base_uri": "https://localhost:8080/",
          "height": 292
        },
        "outputId": "1c3d8122-d344-4a33-91b4-f8d657d0738c"
      },
      "source": [
        "print(\"Data Shape: {}\".format(df.shape))\n",
        "df.head()"
      ],
      "execution_count": null,
      "outputs": [
        {
          "output_type": "stream",
          "text": [
            "Data Shape: (16762, 15)\n"
          ],
          "name": "stdout"
        },
        {
          "output_type": "execute_result",
          "data": {
            "text/html": [
              "<div>\n",
              "<style scoped>\n",
              "    .dataframe tbody tr th:only-of-type {\n",
              "        vertical-align: middle;\n",
              "    }\n",
              "\n",
              "    .dataframe tbody tr th {\n",
              "        vertical-align: top;\n",
              "    }\n",
              "\n",
              "    .dataframe thead th {\n",
              "        text-align: right;\n",
              "    }\n",
              "</style>\n",
              "<table border=\"1\" class=\"dataframe\">\n",
              "  <thead>\n",
              "    <tr style=\"text-align: right;\">\n",
              "      <th></th>\n",
              "      <th>LISTING_KIND</th>\n",
              "      <th>LISTING_CITY</th>\n",
              "      <th>LISTING_PRICE</th>\n",
              "      <th>IS_ARCHIVED</th>\n",
              "      <th>ARCHIVE_REASON</th>\n",
              "      <th>LOGIN_COUNTRY_CODE</th>\n",
              "      <th>LISTING_COUNTRY_CODE</th>\n",
              "      <th>LISTING_REGISTRATION_POSSIBLE</th>\n",
              "      <th>ADVERTISER_COMPLETENESS_SCORE</th>\n",
              "      <th>MANAGED_ACCOUNT</th>\n",
              "      <th>HAS_PROFILE_PIC</th>\n",
              "      <th>BROWSER</th>\n",
              "      <th>OS</th>\n",
              "      <th>IS_SCAMMER</th>\n",
              "      <th>ANONYMISED_EMAIL</th>\n",
              "    </tr>\n",
              "  </thead>\n",
              "  <tbody>\n",
              "    <tr>\n",
              "      <th>0</th>\n",
              "      <td>1</td>\n",
              "      <td>Göteborg</td>\n",
              "      <td>725.00</td>\n",
              "      <td>False</td>\n",
              "      <td>NaN</td>\n",
              "      <td>se</td>\n",
              "      <td>se</td>\n",
              "      <td>0</td>\n",
              "      <td>80</td>\n",
              "      <td>False</td>\n",
              "      <td>1</td>\n",
              "      <td>Mobile Safari</td>\n",
              "      <td>iOS</td>\n",
              "      <td>0</td>\n",
              "      <td>bosqlqg@aol.com</td>\n",
              "    </tr>\n",
              "    <tr>\n",
              "      <th>1</th>\n",
              "      <td>1</td>\n",
              "      <td>Göteborg</td>\n",
              "      <td>469.35</td>\n",
              "      <td>False</td>\n",
              "      <td>NaN</td>\n",
              "      <td>se</td>\n",
              "      <td>se</td>\n",
              "      <td>1</td>\n",
              "      <td>70</td>\n",
              "      <td>False</td>\n",
              "      <td>1</td>\n",
              "      <td>Chrome</td>\n",
              "      <td>Android</td>\n",
              "      <td>0</td>\n",
              "      <td>fylm235670@gmail.com</td>\n",
              "    </tr>\n",
              "    <tr>\n",
              "      <th>2</th>\n",
              "      <td>1</td>\n",
              "      <td>Elche</td>\n",
              "      <td>200.00</td>\n",
              "      <td>False</td>\n",
              "      <td>NaN</td>\n",
              "      <td>es</td>\n",
              "      <td>es</td>\n",
              "      <td>0</td>\n",
              "      <td>25</td>\n",
              "      <td>False</td>\n",
              "      <td>0</td>\n",
              "      <td>Chrome</td>\n",
              "      <td>Android</td>\n",
              "      <td>0</td>\n",
              "      <td>mhzasjonfobc@gmail.com</td>\n",
              "    </tr>\n",
              "    <tr>\n",
              "      <th>3</th>\n",
              "      <td>0</td>\n",
              "      <td>Verona</td>\n",
              "      <td>1500.00</td>\n",
              "      <td>False</td>\n",
              "      <td>NaN</td>\n",
              "      <td>it</td>\n",
              "      <td>it</td>\n",
              "      <td>0</td>\n",
              "      <td>86</td>\n",
              "      <td>False</td>\n",
              "      <td>1</td>\n",
              "      <td>Chrome</td>\n",
              "      <td>Mac OS X</td>\n",
              "      <td>0</td>\n",
              "      <td>uclypkijb@italianflat.com</td>\n",
              "    </tr>\n",
              "    <tr>\n",
              "      <th>4</th>\n",
              "      <td>1</td>\n",
              "      <td>Copenhagen</td>\n",
              "      <td>904.16</td>\n",
              "      <td>False</td>\n",
              "      <td>NaN</td>\n",
              "      <td>dk</td>\n",
              "      <td>dk</td>\n",
              "      <td>0</td>\n",
              "      <td>5</td>\n",
              "      <td>False</td>\n",
              "      <td>1</td>\n",
              "      <td>Microsoft Edge</td>\n",
              "      <td>Windows</td>\n",
              "      <td>0</td>\n",
              "      <td>dyrrtatzx.fhcs@outlook.com</td>\n",
              "    </tr>\n",
              "  </tbody>\n",
              "</table>\n",
              "</div>"
            ],
            "text/plain": [
              "   LISTING_KIND LISTING_CITY  ...  IS_SCAMMER            ANONYMISED_EMAIL\n",
              "0             1     Göteborg  ...           0             bosqlqg@aol.com\n",
              "1             1     Göteborg  ...           0        fylm235670@gmail.com\n",
              "2             1        Elche  ...           0      mhzasjonfobc@gmail.com\n",
              "3             0       Verona  ...           0   uclypkijb@italianflat.com\n",
              "4             1   Copenhagen  ...           0  dyrrtatzx.fhcs@outlook.com\n",
              "\n",
              "[5 rows x 15 columns]"
            ]
          },
          "metadata": {
            "tags": []
          },
          "execution_count": 10
        }
      ]
    },
    {
      "cell_type": "code",
      "metadata": {
        "id": "z11d6cJQm76T",
        "colab": {
          "base_uri": "https://localhost:8080/",
          "height": 292
        },
        "outputId": "a8eabb4e-d367-4486-951e-d7488501f64e"
      },
      "source": [
        "print(df_test.shape)\n",
        "df_test.head()"
      ],
      "execution_count": null,
      "outputs": [
        {
          "output_type": "stream",
          "text": [
            "(1918, 12)\n"
          ],
          "name": "stdout"
        },
        {
          "output_type": "execute_result",
          "data": {
            "text/html": [
              "<div>\n",
              "<style scoped>\n",
              "    .dataframe tbody tr th:only-of-type {\n",
              "        vertical-align: middle;\n",
              "    }\n",
              "\n",
              "    .dataframe tbody tr th {\n",
              "        vertical-align: top;\n",
              "    }\n",
              "\n",
              "    .dataframe thead th {\n",
              "        text-align: right;\n",
              "    }\n",
              "</style>\n",
              "<table border=\"1\" class=\"dataframe\">\n",
              "  <thead>\n",
              "    <tr style=\"text-align: right;\">\n",
              "      <th></th>\n",
              "      <th>LISTING_KIND</th>\n",
              "      <th>LISTING_CITY</th>\n",
              "      <th>LISTING_PRICE</th>\n",
              "      <th>LOGIN_COUNTRY_CODE</th>\n",
              "      <th>LISTING_COUNTRY_CODE</th>\n",
              "      <th>LISTING_REGISTRATION_POSSIBLE</th>\n",
              "      <th>ADVERTISER_COMPLETENESS_SCORE</th>\n",
              "      <th>MANAGED_ACCOUNT</th>\n",
              "      <th>HAS_PROFILE_PIC</th>\n",
              "      <th>BROWSER</th>\n",
              "      <th>OS</th>\n",
              "      <th>ANONYMISED_EMAIL</th>\n",
              "    </tr>\n",
              "  </thead>\n",
              "  <tbody>\n",
              "    <tr>\n",
              "      <th>0</th>\n",
              "      <td>1</td>\n",
              "      <td>Elche</td>\n",
              "      <td>155.00</td>\n",
              "      <td>es</td>\n",
              "      <td>es</td>\n",
              "      <td>0</td>\n",
              "      <td>35</td>\n",
              "      <td>False</td>\n",
              "      <td>1</td>\n",
              "      <td>Chrome</td>\n",
              "      <td>Android</td>\n",
              "      <td>drhzhephmeo@hotmail.com</td>\n",
              "    </tr>\n",
              "    <tr>\n",
              "      <th>1</th>\n",
              "      <td>1</td>\n",
              "      <td>Tilburg</td>\n",
              "      <td>420.00</td>\n",
              "      <td>nl</td>\n",
              "      <td>nl</td>\n",
              "      <td>1</td>\n",
              "      <td>40</td>\n",
              "      <td>False</td>\n",
              "      <td>1</td>\n",
              "      <td>Microsoft Edge</td>\n",
              "      <td>Windows</td>\n",
              "      <td>jorpr80ckig@gmail.com</td>\n",
              "    </tr>\n",
              "    <tr>\n",
              "      <th>2</th>\n",
              "      <td>1</td>\n",
              "      <td>Las Vegas</td>\n",
              "      <td>591.18</td>\n",
              "      <td>us</td>\n",
              "      <td>us</td>\n",
              "      <td>0</td>\n",
              "      <td>100</td>\n",
              "      <td>False</td>\n",
              "      <td>1</td>\n",
              "      <td>Mobile Safari</td>\n",
              "      <td>iOS</td>\n",
              "      <td>xaswrxawlgba@icloud.com</td>\n",
              "    </tr>\n",
              "    <tr>\n",
              "      <th>3</th>\n",
              "      <td>1</td>\n",
              "      <td>Utrecht</td>\n",
              "      <td>700.00</td>\n",
              "      <td>nl</td>\n",
              "      <td>nl</td>\n",
              "      <td>1</td>\n",
              "      <td>60</td>\n",
              "      <td>False</td>\n",
              "      <td>1</td>\n",
              "      <td>Firefox</td>\n",
              "      <td>Mac OS X</td>\n",
              "      <td>gnszyfo@universityhousing.nl</td>\n",
              "    </tr>\n",
              "    <tr>\n",
              "      <th>4</th>\n",
              "      <td>1</td>\n",
              "      <td>The Hague</td>\n",
              "      <td>600.00</td>\n",
              "      <td>fr</td>\n",
              "      <td>nl</td>\n",
              "      <td>1</td>\n",
              "      <td>54</td>\n",
              "      <td>False</td>\n",
              "      <td>1</td>\n",
              "      <td>Chrome</td>\n",
              "      <td>Windows</td>\n",
              "      <td>ttcjbtm@ziggo.nl</td>\n",
              "    </tr>\n",
              "  </tbody>\n",
              "</table>\n",
              "</div>"
            ],
            "text/plain": [
              "   LISTING_KIND LISTING_CITY  ...        OS              ANONYMISED_EMAIL\n",
              "0             1        Elche  ...   Android       drhzhephmeo@hotmail.com\n",
              "1             1      Tilburg  ...   Windows         jorpr80ckig@gmail.com\n",
              "2             1    Las Vegas  ...       iOS       xaswrxawlgba@icloud.com\n",
              "3             1      Utrecht  ...  Mac OS X  gnszyfo@universityhousing.nl\n",
              "4             1    The Hague  ...   Windows              ttcjbtm@ziggo.nl\n",
              "\n",
              "[5 rows x 12 columns]"
            ]
          },
          "metadata": {
            "tags": []
          },
          "execution_count": 11
        }
      ]
    },
    {
      "cell_type": "markdown",
      "metadata": {
        "id": "YxGi1isrKy9C"
      },
      "source": [
        "Since the target column is IS_SCAMMER, lets take a look its value counts\n"
      ]
    },
    {
      "cell_type": "code",
      "metadata": {
        "id": "voclF39jKMTz",
        "colab": {
          "base_uri": "https://localhost:8080/",
          "height": 68
        },
        "outputId": "e81ff4a9-ba9e-4142-f9f5-9a18cc509f9f"
      },
      "source": [
        "df['IS_SCAMMER'].value_counts()"
      ],
      "execution_count": null,
      "outputs": [
        {
          "output_type": "execute_result",
          "data": {
            "text/plain": [
              "0    15792\n",
              "1      970\n",
              "Name: IS_SCAMMER, dtype: int64"
            ]
          },
          "metadata": {
            "tags": []
          },
          "execution_count": 12
        }
      ]
    },
    {
      "cell_type": "markdown",
      "metadata": {
        "id": "4sD592n2K6Tx"
      },
      "source": [
        "As can be seen, there is a class imbalance. Only 970 rows are deemed as Scams. "
      ]
    },
    {
      "cell_type": "markdown",
      "metadata": {
        "id": "m1eo1BDwng44"
      },
      "source": [
        "\n",
        "---\n",
        "We removed the two columns to match the test set\n",
        "\n"
      ]
    },
    {
      "cell_type": "code",
      "metadata": {
        "id": "ULqfr8eMKPY9"
      },
      "source": [
        "df.pop('IS_ARCHIVED')\n",
        "df.pop('ARCHIVE_REASON')\n",
        "df = df.fillna(0)"
      ],
      "execution_count": null,
      "outputs": []
    },
    {
      "cell_type": "code",
      "metadata": {
        "id": "6XyfII6iLILv",
        "colab": {
          "base_uri": "https://localhost:8080/",
          "height": 34
        },
        "outputId": "36ae27fd-019f-4905-c437-91040d69e37b"
      },
      "source": [
        "df.shape"
      ],
      "execution_count": null,
      "outputs": [
        {
          "output_type": "execute_result",
          "data": {
            "text/plain": [
              "(16762, 13)"
            ]
          },
          "metadata": {
            "tags": []
          },
          "execution_count": 14
        }
      ]
    },
    {
      "cell_type": "markdown",
      "metadata": {
        "id": "qHolP9heS56g"
      },
      "source": [
        "\n",
        "\n",
        "\n",
        "---\n",
        "\n",
        "\n",
        "Now lets analyse and visualize the listing price distribution with respect to scam and non-scam data\n",
        "\n",
        "To do this, lets create a new df with just LISTING_PRICE and IS_SCAMMER and then normalise the data."
      ]
    },
    {
      "cell_type": "code",
      "metadata": {
        "id": "QXc6VtaSMW6u"
      },
      "source": [
        "# create a new data_frame with just LISTING_PRICE and target column IS_SCAMMER\n",
        "df_price = df[['LISTING_PRICE']]\n",
        "\n",
        "df_price['IS_SCAMMER'] = df['IS_SCAMMER']"
      ],
      "execution_count": null,
      "outputs": []
    },
    {
      "cell_type": "code",
      "metadata": {
        "id": "Rfxut94IMOGN",
        "colab": {
          "base_uri": "https://localhost:8080/",
          "height": 204
        },
        "outputId": "7070ab15-5a97-4960-e046-5e8b702ec831"
      },
      "source": [
        "df_price.head()"
      ],
      "execution_count": null,
      "outputs": [
        {
          "output_type": "execute_result",
          "data": {
            "text/html": [
              "<div>\n",
              "<style scoped>\n",
              "    .dataframe tbody tr th:only-of-type {\n",
              "        vertical-align: middle;\n",
              "    }\n",
              "\n",
              "    .dataframe tbody tr th {\n",
              "        vertical-align: top;\n",
              "    }\n",
              "\n",
              "    .dataframe thead th {\n",
              "        text-align: right;\n",
              "    }\n",
              "</style>\n",
              "<table border=\"1\" class=\"dataframe\">\n",
              "  <thead>\n",
              "    <tr style=\"text-align: right;\">\n",
              "      <th></th>\n",
              "      <th>LISTING_PRICE</th>\n",
              "      <th>IS_SCAMMER</th>\n",
              "    </tr>\n",
              "  </thead>\n",
              "  <tbody>\n",
              "    <tr>\n",
              "      <th>0</th>\n",
              "      <td>725.00</td>\n",
              "      <td>0</td>\n",
              "    </tr>\n",
              "    <tr>\n",
              "      <th>1</th>\n",
              "      <td>469.35</td>\n",
              "      <td>0</td>\n",
              "    </tr>\n",
              "    <tr>\n",
              "      <th>2</th>\n",
              "      <td>200.00</td>\n",
              "      <td>0</td>\n",
              "    </tr>\n",
              "    <tr>\n",
              "      <th>3</th>\n",
              "      <td>1500.00</td>\n",
              "      <td>0</td>\n",
              "    </tr>\n",
              "    <tr>\n",
              "      <th>4</th>\n",
              "      <td>904.16</td>\n",
              "      <td>0</td>\n",
              "    </tr>\n",
              "  </tbody>\n",
              "</table>\n",
              "</div>"
            ],
            "text/plain": [
              "   LISTING_PRICE  IS_SCAMMER\n",
              "0         725.00           0\n",
              "1         469.35           0\n",
              "2         200.00           0\n",
              "3        1500.00           0\n",
              "4         904.16           0"
            ]
          },
          "metadata": {
            "tags": []
          },
          "execution_count": 16
        }
      ]
    },
    {
      "cell_type": "code",
      "metadata": {
        "id": "356jkTgyQLY4"
      },
      "source": [
        "numeric_attr_names = ['LISTING_PRICE']\n",
        "\n",
        "# add a small epsilon to eliminate zero values from data for log scaling\n",
        "# explain where you got this idea from and give credit\n",
        "numeric_attr = df_price[numeric_attr_names] + 1e-7\n",
        "numeric_attr = numeric_attr.apply(np.log)\n",
        "\n",
        "# normalize all numeric attributes to the range [0,1]\n",
        "df_visualise = (numeric_attr - numeric_attr.min()) / (numeric_attr.max() - numeric_attr.min())"
      ],
      "execution_count": null,
      "outputs": []
    },
    {
      "cell_type": "code",
      "metadata": {
        "id": "iWZagw2CN5LW",
        "colab": {
          "base_uri": "https://localhost:8080/",
          "height": 330
        },
        "outputId": "be4f30b4-b449-43fe-d3f2-2041f6cd5931"
      },
      "source": [
        "# append 'label' attribute for colour distinction\n",
        "df_visualise['IS_SCAMMER'] = df_price['IS_SCAMMER']\n",
        "\n",
        "# plot the log-scaled and min-max normalized numeric attributes\n",
        "g = sns.pairplot(data=df_visualise, vars=numeric_attr_names, hue='IS_SCAMMER')\n",
        "g.fig.suptitle('Distribution vs IS_SCAMMER')\n",
        "g.fig.set_size_inches(15, 5)"
      ],
      "execution_count": null,
      "outputs": [
        {
          "output_type": "display_data",
          "data": {
            "image/png": "[encoded data removed]",
            "text/plain": [
              "<Figure size 1080x360 with 2 Axes>"
            ]
          },
          "metadata": {
            "tags": []
          }
        }
      ]
    },
    {
      "cell_type": "markdown",
      "metadata": {
        "id": "6VcezKIMSSBb"
      },
      "source": [
        "As can be seen in the graph above, the scammed listing prices are a lot higher than non_scammed. So this is significant!\n",
        "\n",
        "\n",
        "---\n"
      ]
    },
    {
      "cell_type": "code",
      "metadata": {
        "id": "j5p8w3S6W1Oa"
      },
      "source": [
        "# create a new data_frame with just ADVERTISER_SCORE and target column IS_SCAMMER\n",
        "df_ad = df[['ADVERTISER_COMPLETENESS_SCORE']]\n",
        "\n",
        "df_ad['IS_SCAMMER'] = df['IS_SCAMMER']\n",
        "numeric_attr_names = ['ADVERTISER_COMPLETENESS_SCORE']\n",
        "\n",
        "# add a small epsilon to eliminate zero values from data for log scaling\n",
        "# explain where you got this idea from and give credit\n",
        "numeric_attr = df_ad[numeric_attr_names] + 1e-7\n",
        "numeric_attr = numeric_attr.apply(np.log)\n",
        "\n",
        "# normalize all numeric attributes to the range [0,1]\n",
        "df_visualise = (numeric_attr - numeric_attr.min()) / (numeric_attr.max() - numeric_attr.min())"
      ],
      "execution_count": null,
      "outputs": []
    },
    {
      "cell_type": "code",
      "metadata": {
        "id": "RbDU3cxNW3Ek",
        "colab": {
          "base_uri": "https://localhost:8080/",
          "height": 330
        },
        "outputId": "161f3fe6-fc80-4f9a-9637-dac9b6105d7e"
      },
      "source": [
        "# append 'label' attribute for colour distinction\n",
        "df_visualise['IS_SCAMMER'] = df_ad['IS_SCAMMER']\n",
        "\n",
        "# plot the log-scaled and min-max normalized numeric attributes\n",
        "g = sns.pairplot(data=df_visualise, vars=numeric_attr_names, hue='IS_SCAMMER')\n",
        "g.fig.suptitle('Distribution vs IS_SCAMMER')\n",
        "g.fig.set_size_inches(15, 5)"
      ],
      "execution_count": null,
      "outputs": [
        {
          "output_type": "display_data",
          "data": {
            "image/png": "[encoded data removed]",
            "text/plain": [
              "<Figure size 1080x360 with 2 Axes>"
            ]
          },
          "metadata": {
            "tags": []
          }
        }
      ]
    },
    {
      "cell_type": "code",
      "metadata": {
        "id": "EQOesPyySRVd",
        "colab": {
          "base_uri": "https://localhost:8080/",
          "height": 68
        },
        "outputId": "edb6aef7-2a1d-43e3-eaef-f0bfe349a338"
      },
      "source": [
        "df_MA = df[['MANAGED_ACCOUNT']]\n",
        "df_MA['IS_SCAMMER'] = df['IS_SCAMMER']\n",
        "df.MANAGED_ACCOUNT.value_counts()\n"
      ],
      "execution_count": null,
      "outputs": [
        {
          "output_type": "execute_result",
          "data": {
            "text/plain": [
              "False    16340\n",
              "True       422\n",
              "Name: MANAGED_ACCOUNT, dtype: int64"
            ]
          },
          "metadata": {
            "tags": []
          },
          "execution_count": 24
        }
      ]
    },
    {
      "cell_type": "markdown",
      "metadata": {
        "id": "6V5Z6DNDWjtR"
      },
      "source": [
        "As noticed, most of the columns are pretty significant and will be used as features.\n",
        "The only columns I left out as features are locations - Listing city and lisitng country code as I believe that scams can happen to anyone from any country. If the model is not good enough, we can also try with these columns as features"
      ]
    },
    {
      "cell_type": "code",
      "metadata": {
        "id": "rZkPWW8Ncvab",
        "colab": {
          "base_uri": "https://localhost:8080/",
          "height": 275
        },
        "outputId": "eed69053-c027-45d7-c6e5-200c3712c007"
      },
      "source": [
        "X_train = df.copy()\n",
        "X_train.pop('LISTING_COUNTRY_CODE')\n",
        "X_train.pop('LISTING_CITY')\n",
        "X_train.pop('ANONYMISED_EMAIL')\n",
        "X_train.head()"
      ],
      "execution_count": null,
      "outputs": [
        {
          "output_type": "execute_result",
          "data": {
            "text/html": [
              "<div>\n",
              "<style scoped>\n",
              "    .dataframe tbody tr th:only-of-type {\n",
              "        vertical-align: middle;\n",
              "    }\n",
              "\n",
              "    .dataframe tbody tr th {\n",
              "        vertical-align: top;\n",
              "    }\n",
              "\n",
              "    .dataframe thead th {\n",
              "        text-align: right;\n",
              "    }\n",
              "</style>\n",
              "<table border=\"1\" class=\"dataframe\">\n",
              "  <thead>\n",
              "    <tr style=\"text-align: right;\">\n",
              "      <th></th>\n",
              "      <th>LISTING_KIND</th>\n",
              "      <th>LISTING_PRICE</th>\n",
              "      <th>LOGIN_COUNTRY_CODE</th>\n",
              "      <th>LISTING_REGISTRATION_POSSIBLE</th>\n",
              "      <th>ADVERTISER_COMPLETENESS_SCORE</th>\n",
              "      <th>MANAGED_ACCOUNT</th>\n",
              "      <th>HAS_PROFILE_PIC</th>\n",
              "      <th>BROWSER</th>\n",
              "      <th>OS</th>\n",
              "      <th>IS_SCAMMER</th>\n",
              "    </tr>\n",
              "  </thead>\n",
              "  <tbody>\n",
              "    <tr>\n",
              "      <th>0</th>\n",
              "      <td>1</td>\n",
              "      <td>725.00</td>\n",
              "      <td>se</td>\n",
              "      <td>0</td>\n",
              "      <td>80</td>\n",
              "      <td>False</td>\n",
              "      <td>1</td>\n",
              "      <td>Mobile Safari</td>\n",
              "      <td>iOS</td>\n",
              "      <td>0</td>\n",
              "    </tr>\n",
              "    <tr>\n",
              "      <th>1</th>\n",
              "      <td>1</td>\n",
              "      <td>469.35</td>\n",
              "      <td>se</td>\n",
              "      <td>1</td>\n",
              "      <td>70</td>\n",
              "      <td>False</td>\n",
              "      <td>1</td>\n",
              "      <td>Chrome</td>\n",
              "      <td>Android</td>\n",
              "      <td>0</td>\n",
              "    </tr>\n",
              "    <tr>\n",
              "      <th>2</th>\n",
              "      <td>1</td>\n",
              "      <td>200.00</td>\n",
              "      <td>es</td>\n",
              "      <td>0</td>\n",
              "      <td>25</td>\n",
              "      <td>False</td>\n",
              "      <td>0</td>\n",
              "      <td>Chrome</td>\n",
              "      <td>Android</td>\n",
              "      <td>0</td>\n",
              "    </tr>\n",
              "    <tr>\n",
              "      <th>3</th>\n",
              "      <td>0</td>\n",
              "      <td>1500.00</td>\n",
              "      <td>it</td>\n",
              "      <td>0</td>\n",
              "      <td>86</td>\n",
              "      <td>False</td>\n",
              "      <td>1</td>\n",
              "      <td>Chrome</td>\n",
              "      <td>Mac OS X</td>\n",
              "      <td>0</td>\n",
              "    </tr>\n",
              "    <tr>\n",
              "      <th>4</th>\n",
              "      <td>1</td>\n",
              "      <td>904.16</td>\n",
              "      <td>dk</td>\n",
              "      <td>0</td>\n",
              "      <td>5</td>\n",
              "      <td>False</td>\n",
              "      <td>1</td>\n",
              "      <td>Microsoft Edge</td>\n",
              "      <td>Windows</td>\n",
              "      <td>0</td>\n",
              "    </tr>\n",
              "  </tbody>\n",
              "</table>\n",
              "</div>"
            ],
            "text/plain": [
              "   LISTING_KIND  LISTING_PRICE  ...        OS  IS_SCAMMER\n",
              "0             1         725.00  ...       iOS           0\n",
              "1             1         469.35  ...   Android           0\n",
              "2             1         200.00  ...   Android           0\n",
              "3             0        1500.00  ...  Mac OS X           0\n",
              "4             1         904.16  ...   Windows           0\n",
              "\n",
              "[5 rows x 10 columns]"
            ]
          },
          "metadata": {
            "tags": []
          },
          "execution_count": 25
        }
      ]
    },
    {
      "cell_type": "code",
      "metadata": {
        "id": "A9FiMV8CkDUh",
        "colab": {
          "base_uri": "https://localhost:8080/",
          "height": 204
        },
        "outputId": "93e79903-06f6-4633-f424-ca6afb85832b"
      },
      "source": [
        "X_train.dtypes"
      ],
      "execution_count": null,
      "outputs": [
        {
          "output_type": "execute_result",
          "data": {
            "text/plain": [
              "LISTING_KIND                       int64\n",
              "LISTING_PRICE                    float64\n",
              "LOGIN_COUNTRY_CODE                object\n",
              "LISTING_REGISTRATION_POSSIBLE      int64\n",
              "ADVERTISER_COMPLETENESS_SCORE      int64\n",
              "MANAGED_ACCOUNT                     bool\n",
              "HAS_PROFILE_PIC                    int64\n",
              "BROWSER                           object\n",
              "OS                                object\n",
              "IS_SCAMMER                         int64\n",
              "dtype: object"
            ]
          },
          "metadata": {
            "tags": []
          },
          "execution_count": 26
        }
      ]
    },
    {
      "cell_type": "code",
      "metadata": {
        "id": "1UCyn6UomoC5"
      },
      "source": [
        "X_test = df_test.copy()\n",
        "X_test_numerical = X_test._get_numeric_data().drop(['MANAGED_ACCOUNT'], axis =1)"
      ],
      "execution_count": null,
      "outputs": []
    },
    {
      "cell_type": "code",
      "metadata": {
        "id": "HgY_lUIIeihh"
      },
      "source": [
        "X_train_numerical = X_train._get_numeric_data().drop(['MANAGED_ACCOUNT'], axis =1)\n"
      ],
      "execution_count": null,
      "outputs": []
    },
    {
      "cell_type": "code",
      "metadata": {
        "id": "thmSV3D8kbXC",
        "colab": {
          "base_uri": "https://localhost:8080/",
          "height": 224
        },
        "outputId": "850d897a-5821-483c-8169-1a9db6966832"
      },
      "source": [
        "X_train_numerical.head()"
      ],
      "execution_count": null,
      "outputs": [
        {
          "output_type": "execute_result",
          "data": {
            "text/html": [
              "<div>\n",
              "<style scoped>\n",
              "    .dataframe tbody tr th:only-of-type {\n",
              "        vertical-align: middle;\n",
              "    }\n",
              "\n",
              "    .dataframe tbody tr th {\n",
              "        vertical-align: top;\n",
              "    }\n",
              "\n",
              "    .dataframe thead th {\n",
              "        text-align: right;\n",
              "    }\n",
              "</style>\n",
              "<table border=\"1\" class=\"dataframe\">\n",
              "  <thead>\n",
              "    <tr style=\"text-align: right;\">\n",
              "      <th></th>\n",
              "      <th>LISTING_KIND</th>\n",
              "      <th>LISTING_PRICE</th>\n",
              "      <th>LISTING_REGISTRATION_POSSIBLE</th>\n",
              "      <th>ADVERTISER_COMPLETENESS_SCORE</th>\n",
              "      <th>HAS_PROFILE_PIC</th>\n",
              "      <th>IS_SCAMMER</th>\n",
              "    </tr>\n",
              "  </thead>\n",
              "  <tbody>\n",
              "    <tr>\n",
              "      <th>0</th>\n",
              "      <td>1</td>\n",
              "      <td>725.00</td>\n",
              "      <td>0</td>\n",
              "      <td>80</td>\n",
              "      <td>1</td>\n",
              "      <td>0</td>\n",
              "    </tr>\n",
              "    <tr>\n",
              "      <th>1</th>\n",
              "      <td>1</td>\n",
              "      <td>469.35</td>\n",
              "      <td>1</td>\n",
              "      <td>70</td>\n",
              "      <td>1</td>\n",
              "      <td>0</td>\n",
              "    </tr>\n",
              "    <tr>\n",
              "      <th>2</th>\n",
              "      <td>1</td>\n",
              "      <td>200.00</td>\n",
              "      <td>0</td>\n",
              "      <td>25</td>\n",
              "      <td>0</td>\n",
              "      <td>0</td>\n",
              "    </tr>\n",
              "    <tr>\n",
              "      <th>3</th>\n",
              "      <td>0</td>\n",
              "      <td>1500.00</td>\n",
              "      <td>0</td>\n",
              "      <td>86</td>\n",
              "      <td>1</td>\n",
              "      <td>0</td>\n",
              "    </tr>\n",
              "    <tr>\n",
              "      <th>4</th>\n",
              "      <td>1</td>\n",
              "      <td>904.16</td>\n",
              "      <td>0</td>\n",
              "      <td>5</td>\n",
              "      <td>1</td>\n",
              "      <td>0</td>\n",
              "    </tr>\n",
              "  </tbody>\n",
              "</table>\n",
              "</div>"
            ],
            "text/plain": [
              "   LISTING_KIND  LISTING_PRICE  ...  HAS_PROFILE_PIC  IS_SCAMMER\n",
              "0             1         725.00  ...                1           0\n",
              "1             1         469.35  ...                1           0\n",
              "2             1         200.00  ...                0           0\n",
              "3             0        1500.00  ...                1           0\n",
              "4             1         904.16  ...                1           0\n",
              "\n",
              "[5 rows x 6 columns]"
            ]
          },
          "metadata": {
            "tags": []
          },
          "execution_count": 29
        }
      ]
    },
    {
      "cell_type": "markdown",
      "metadata": {
        "id": "w8MVMmd4dIRh"
      },
      "source": [
        "Now we have to normalise the numerical data and then substitute numerical values for categorical data such as IS_ARCHIVED, LOGIN_COUNTRY_CODE, etc\n",
        "We will use Sklearn for this process.\n",
        "\n",
        "\n",
        "---\n",
        "\n",
        "Normalise using min-max-scaler"
      ]
    },
    {
      "cell_type": "code",
      "metadata": {
        "id": "Lgos5rdfpnKg"
      },
      "source": [
        "from sklearn.preprocessing import MinMaxScaler\n",
        "\n",
        "min_max_scaler = MinMaxScaler()\n",
        "\n",
        "\n",
        "# normalise test set\n",
        "X_test_numerical[['LISTING_KIND',\n",
        "    'LISTING_PRICE',\n",
        "    'LISTING_REGISTRATION_POSSIBLE',\n",
        "    'ADVERTISER_COMPLETENESS_SCORE',\n",
        "    'HAS_PROFILE_PIC' ]] = min_max_scaler.fit_transform(X_test_numerical[['LISTING_KIND',\n",
        "                                                    'LISTING_PRICE',\n",
        "                                                    'LISTING_REGISTRATION_POSSIBLE',\n",
        "                                                    'ADVERTISER_COMPLETENESS_SCORE',\n",
        "                                                    'HAS_PROFILE_PIC']])"
      ],
      "execution_count": null,
      "outputs": []
    },
    {
      "cell_type": "code",
      "metadata": {
        "id": "ic6uWTHxdHuo",
        "colab": {
          "base_uri": "https://localhost:8080/",
          "height": 224
        },
        "outputId": "1e4e33d1-f2d1-48e4-e3f3-b1fd4320df50"
      },
      "source": [
        "\n",
        "# normalise train set\n",
        "\n",
        "X_train_numerical[['LISTING_KIND',\n",
        "    'LISTING_PRICE',\n",
        "    'LISTING_REGISTRATION_POSSIBLE',\n",
        "    'ADVERTISER_COMPLETENESS_SCORE',\n",
        "    'HAS_PROFILE_PIC' ]] = min_max_scaler.fit_transform(X_train_numerical[['LISTING_KIND',\n",
        "                                                    'LISTING_PRICE',\n",
        "                                                    'LISTING_REGISTRATION_POSSIBLE',\n",
        "                                                    'ADVERTISER_COMPLETENESS_SCORE',\n",
        "                                                    'HAS_PROFILE_PIC']])\n",
        "X_train_numerical.head()"
      ],
      "execution_count": null,
      "outputs": [
        {
          "output_type": "execute_result",
          "data": {
            "text/html": [
              "<div>\n",
              "<style scoped>\n",
              "    .dataframe tbody tr th:only-of-type {\n",
              "        vertical-align: middle;\n",
              "    }\n",
              "\n",
              "    .dataframe tbody tr th {\n",
              "        vertical-align: top;\n",
              "    }\n",
              "\n",
              "    .dataframe thead th {\n",
              "        text-align: right;\n",
              "    }\n",
              "</style>\n",
              "<table border=\"1\" class=\"dataframe\">\n",
              "  <thead>\n",
              "    <tr style=\"text-align: right;\">\n",
              "      <th></th>\n",
              "      <th>LISTING_KIND</th>\n",
              "      <th>LISTING_PRICE</th>\n",
              "      <th>LISTING_REGISTRATION_POSSIBLE</th>\n",
              "      <th>ADVERTISER_COMPLETENESS_SCORE</th>\n",
              "      <th>HAS_PROFILE_PIC</th>\n",
              "      <th>IS_SCAMMER</th>\n",
              "    </tr>\n",
              "  </thead>\n",
              "  <tbody>\n",
              "    <tr>\n",
              "      <th>0</th>\n",
              "      <td>0.5</td>\n",
              "      <td>0.000725</td>\n",
              "      <td>0.0</td>\n",
              "      <td>0.80</td>\n",
              "      <td>1.0</td>\n",
              "      <td>0</td>\n",
              "    </tr>\n",
              "    <tr>\n",
              "      <th>1</th>\n",
              "      <td>0.5</td>\n",
              "      <td>0.000469</td>\n",
              "      <td>1.0</td>\n",
              "      <td>0.70</td>\n",
              "      <td>1.0</td>\n",
              "      <td>0</td>\n",
              "    </tr>\n",
              "    <tr>\n",
              "      <th>2</th>\n",
              "      <td>0.5</td>\n",
              "      <td>0.000200</td>\n",
              "      <td>0.0</td>\n",
              "      <td>0.25</td>\n",
              "      <td>0.0</td>\n",
              "      <td>0</td>\n",
              "    </tr>\n",
              "    <tr>\n",
              "      <th>3</th>\n",
              "      <td>0.0</td>\n",
              "      <td>0.001500</td>\n",
              "      <td>0.0</td>\n",
              "      <td>0.86</td>\n",
              "      <td>1.0</td>\n",
              "      <td>0</td>\n",
              "    </tr>\n",
              "    <tr>\n",
              "      <th>4</th>\n",
              "      <td>0.5</td>\n",
              "      <td>0.000904</td>\n",
              "      <td>0.0</td>\n",
              "      <td>0.05</td>\n",
              "      <td>1.0</td>\n",
              "      <td>0</td>\n",
              "    </tr>\n",
              "  </tbody>\n",
              "</table>\n",
              "</div>"
            ],
            "text/plain": [
              "   LISTING_KIND  LISTING_PRICE  ...  HAS_PROFILE_PIC  IS_SCAMMER\n",
              "0           0.5       0.000725  ...              1.0           0\n",
              "1           0.5       0.000469  ...              1.0           0\n",
              "2           0.5       0.000200  ...              0.0           0\n",
              "3           0.0       0.001500  ...              1.0           0\n",
              "4           0.5       0.000904  ...              1.0           0\n",
              "\n",
              "[5 rows x 6 columns]"
            ]
          },
          "metadata": {
            "tags": []
          },
          "execution_count": 31
        }
      ]
    },
    {
      "cell_type": "code",
      "metadata": {
        "id": "Dm_xJVbHfUhn"
      },
      "source": [
        "from sklearn.preprocessing import LabelEncoder\n",
        "\n",
        "le = LabelEncoder()\n",
        "\n",
        "X_train['LOGIN_COUNTRY_CODE']=X_train['LOGIN_COUNTRY_CODE'].astype(str)\n",
        "X_train['BROWSER']=X_train['BROWSER'].astype(str)\n",
        "X_train['OS']=X_train['OS'].astype(str)\n",
        "\n",
        "X_train = X_train.select_dtypes([object,bool])\n",
        "\n",
        "X_train = X_train.apply(LabelEncoder().fit_transform)\n",
        "\n"
      ],
      "execution_count": null,
      "outputs": []
    },
    {
      "cell_type": "code",
      "metadata": {
        "id": "rzaOp85tpwGk"
      },
      "source": [
        "# test set\n",
        "\n",
        "X_test['LOGIN_COUNTRY_CODE']=X_test['LOGIN_COUNTRY_CODE'].astype(str)\n",
        "X_test['BROWSER']=X_test['BROWSER'].astype(str)\n",
        "X_test['OS']=X_test['OS'].astype(str)\n",
        "\n",
        "X_test = X_test.select_dtypes([object,bool])\n",
        "\n",
        "X_test = X_test.apply(LabelEncoder().fit_transform)"
      ],
      "execution_count": null,
      "outputs": []
    },
    {
      "cell_type": "markdown",
      "metadata": {
        "id": "fsnktsVTlS6z"
      },
      "source": [
        "merge both normalized and categorical encoded data by index"
      ]
    },
    {
      "cell_type": "code",
      "metadata": {
        "id": "hIs5pG--ouly",
        "colab": {
          "base_uri": "https://localhost:8080/",
          "height": 224
        },
        "outputId": "5cad54da-d859-4c71-d815-f381d32272a0"
      },
      "source": [
        "X_test = pd.merge(X_test_numerical, X_test, left_index=True, right_index=True)\n",
        "X_test.head()"
      ],
      "execution_count": null,
      "outputs": [
        {
          "output_type": "execute_result",
          "data": {
            "text/html": [
              "<div>\n",
              "<style scoped>\n",
              "    .dataframe tbody tr th:only-of-type {\n",
              "        vertical-align: middle;\n",
              "    }\n",
              "\n",
              "    .dataframe tbody tr th {\n",
              "        vertical-align: top;\n",
              "    }\n",
              "\n",
              "    .dataframe thead th {\n",
              "        text-align: right;\n",
              "    }\n",
              "</style>\n",
              "<table border=\"1\" class=\"dataframe\">\n",
              "  <thead>\n",
              "    <tr style=\"text-align: right;\">\n",
              "      <th></th>\n",
              "      <th>LISTING_KIND</th>\n",
              "      <th>LISTING_PRICE</th>\n",
              "      <th>LISTING_REGISTRATION_POSSIBLE</th>\n",
              "      <th>ADVERTISER_COMPLETENESS_SCORE</th>\n",
              "      <th>HAS_PROFILE_PIC</th>\n",
              "      <th>LISTING_CITY</th>\n",
              "      <th>LOGIN_COUNTRY_CODE</th>\n",
              "      <th>LISTING_COUNTRY_CODE</th>\n",
              "      <th>MANAGED_ACCOUNT</th>\n",
              "      <th>BROWSER</th>\n",
              "      <th>OS</th>\n",
              "      <th>ANONYMISED_EMAIL</th>\n",
              "    </tr>\n",
              "  </thead>\n",
              "  <tbody>\n",
              "    <tr>\n",
              "      <th>0</th>\n",
              "      <td>0.5</td>\n",
              "      <td>0.000145</td>\n",
              "      <td>0.0</td>\n",
              "      <td>0.35</td>\n",
              "      <td>1.0</td>\n",
              "      <td>88</td>\n",
              "      <td>20</td>\n",
              "      <td>14</td>\n",
              "      <td>0</td>\n",
              "      <td>1</td>\n",
              "      <td>0</td>\n",
              "      <td>284</td>\n",
              "    </tr>\n",
              "    <tr>\n",
              "      <th>1</th>\n",
              "      <td>0.5</td>\n",
              "      <td>0.000410</td>\n",
              "      <td>1.0</td>\n",
              "      <td>0.40</td>\n",
              "      <td>1.0</td>\n",
              "      <td>263</td>\n",
              "      <td>49</td>\n",
              "      <td>38</td>\n",
              "      <td>0</td>\n",
              "      <td>7</td>\n",
              "      <td>4</td>\n",
              "      <td>746</td>\n",
              "    </tr>\n",
              "    <tr>\n",
              "      <th>2</th>\n",
              "      <td>0.5</td>\n",
              "      <td>0.000581</td>\n",
              "      <td>0.0</td>\n",
              "      <td>1.00</td>\n",
              "      <td>1.0</td>\n",
              "      <td>133</td>\n",
              "      <td>66</td>\n",
              "      <td>55</td>\n",
              "      <td>0</td>\n",
              "      <td>8</td>\n",
              "      <td>6</td>\n",
              "      <td>1735</td>\n",
              "    </tr>\n",
              "    <tr>\n",
              "      <th>3</th>\n",
              "      <td>0.5</td>\n",
              "      <td>0.000690</td>\n",
              "      <td>1.0</td>\n",
              "      <td>0.60</td>\n",
              "      <td>1.0</td>\n",
              "      <td>273</td>\n",
              "      <td>49</td>\n",
              "      <td>38</td>\n",
              "      <td>0</td>\n",
              "      <td>4</td>\n",
              "      <td>3</td>\n",
              "      <td>505</td>\n",
              "    </tr>\n",
              "    <tr>\n",
              "      <th>4</th>\n",
              "      <td>0.5</td>\n",
              "      <td>0.000590</td>\n",
              "      <td>1.0</td>\n",
              "      <td>0.54</td>\n",
              "      <td>1.0</td>\n",
              "      <td>261</td>\n",
              "      <td>23</td>\n",
              "      <td>38</td>\n",
              "      <td>0</td>\n",
              "      <td>1</td>\n",
              "      <td>4</td>\n",
              "      <td>1477</td>\n",
              "    </tr>\n",
              "  </tbody>\n",
              "</table>\n",
              "</div>"
            ],
            "text/plain": [
              "   LISTING_KIND  LISTING_PRICE  ...  OS  ANONYMISED_EMAIL\n",
              "0           0.5       0.000145  ...   0               284\n",
              "1           0.5       0.000410  ...   4               746\n",
              "2           0.5       0.000581  ...   6              1735\n",
              "3           0.5       0.000690  ...   3               505\n",
              "4           0.5       0.000590  ...   4              1477\n",
              "\n",
              "[5 rows x 12 columns]"
            ]
          },
          "metadata": {
            "tags": []
          },
          "execution_count": 34
        }
      ]
    },
    {
      "cell_type": "code",
      "metadata": {
        "id": "ZxNNF8ERlSba",
        "colab": {
          "base_uri": "https://localhost:8080/",
          "height": 224
        },
        "outputId": "7cc16498-bc38-4789-e5de-1ea971be2120"
      },
      "source": [
        "X_train = pd.merge(X_train_numerical, X_train, left_index=True, right_index=True)\n",
        "X_train.head()"
      ],
      "execution_count": null,
      "outputs": [
        {
          "output_type": "execute_result",
          "data": {
            "text/html": [
              "<div>\n",
              "<style scoped>\n",
              "    .dataframe tbody tr th:only-of-type {\n",
              "        vertical-align: middle;\n",
              "    }\n",
              "\n",
              "    .dataframe tbody tr th {\n",
              "        vertical-align: top;\n",
              "    }\n",
              "\n",
              "    .dataframe thead th {\n",
              "        text-align: right;\n",
              "    }\n",
              "</style>\n",
              "<table border=\"1\" class=\"dataframe\">\n",
              "  <thead>\n",
              "    <tr style=\"text-align: right;\">\n",
              "      <th></th>\n",
              "      <th>LISTING_KIND</th>\n",
              "      <th>LISTING_PRICE</th>\n",
              "      <th>LISTING_REGISTRATION_POSSIBLE</th>\n",
              "      <th>ADVERTISER_COMPLETENESS_SCORE</th>\n",
              "      <th>HAS_PROFILE_PIC</th>\n",
              "      <th>IS_SCAMMER</th>\n",
              "      <th>LOGIN_COUNTRY_CODE</th>\n",
              "      <th>MANAGED_ACCOUNT</th>\n",
              "      <th>BROWSER</th>\n",
              "      <th>OS</th>\n",
              "    </tr>\n",
              "  </thead>\n",
              "  <tbody>\n",
              "    <tr>\n",
              "      <th>0</th>\n",
              "      <td>0.5</td>\n",
              "      <td>0.000725</td>\n",
              "      <td>0.0</td>\n",
              "      <td>0.80</td>\n",
              "      <td>1.0</td>\n",
              "      <td>0</td>\n",
              "      <td>97</td>\n",
              "      <td>0</td>\n",
              "      <td>11</td>\n",
              "      <td>8</td>\n",
              "    </tr>\n",
              "    <tr>\n",
              "      <th>1</th>\n",
              "      <td>0.5</td>\n",
              "      <td>0.000469</td>\n",
              "      <td>1.0</td>\n",
              "      <td>0.70</td>\n",
              "      <td>1.0</td>\n",
              "      <td>0</td>\n",
              "      <td>97</td>\n",
              "      <td>0</td>\n",
              "      <td>3</td>\n",
              "      <td>1</td>\n",
              "    </tr>\n",
              "    <tr>\n",
              "      <th>2</th>\n",
              "      <td>0.5</td>\n",
              "      <td>0.000200</td>\n",
              "      <td>0.0</td>\n",
              "      <td>0.25</td>\n",
              "      <td>0.0</td>\n",
              "      <td>0</td>\n",
              "      <td>36</td>\n",
              "      <td>0</td>\n",
              "      <td>3</td>\n",
              "      <td>1</td>\n",
              "    </tr>\n",
              "    <tr>\n",
              "      <th>3</th>\n",
              "      <td>0.0</td>\n",
              "      <td>0.001500</td>\n",
              "      <td>0.0</td>\n",
              "      <td>0.86</td>\n",
              "      <td>1.0</td>\n",
              "      <td>0</td>\n",
              "      <td>54</td>\n",
              "      <td>0</td>\n",
              "      <td>3</td>\n",
              "      <td>5</td>\n",
              "    </tr>\n",
              "    <tr>\n",
              "      <th>4</th>\n",
              "      <td>0.5</td>\n",
              "      <td>0.000904</td>\n",
              "      <td>0.0</td>\n",
              "      <td>0.05</td>\n",
              "      <td>1.0</td>\n",
              "      <td>0</td>\n",
              "      <td>30</td>\n",
              "      <td>0</td>\n",
              "      <td>10</td>\n",
              "      <td>6</td>\n",
              "    </tr>\n",
              "  </tbody>\n",
              "</table>\n",
              "</div>"
            ],
            "text/plain": [
              "   LISTING_KIND  LISTING_PRICE  ...  BROWSER  OS\n",
              "0           0.5       0.000725  ...       11   8\n",
              "1           0.5       0.000469  ...        3   1\n",
              "2           0.5       0.000200  ...        3   1\n",
              "3           0.0       0.001500  ...        3   5\n",
              "4           0.5       0.000904  ...       10   6\n",
              "\n",
              "[5 rows x 10 columns]"
            ]
          },
          "metadata": {
            "tags": []
          },
          "execution_count": 35
        }
      ]
    },
    {
      "cell_type": "code",
      "metadata": {
        "id": "EKNkX5lEcCmm"
      },
      "source": [
        "y_train = X_train.pop('IS_SCAMMER')"
      ],
      "execution_count": null,
      "outputs": []
    },
    {
      "cell_type": "code",
      "metadata": {
        "id": "xps93-Z4rt-x"
      },
      "source": [
        "X_training, X_valid, y_training, y_valid = train_test_split(X_train, y_train, test_size=0.7, random_state=0)"
      ],
      "execution_count": null,
      "outputs": []
    },
    {
      "cell_type": "markdown",
      "metadata": {
        "id": "v_xdXM5hvdGR"
      },
      "source": [
        "Upsampling minority class using Smote EXPLAIN "
      ]
    },
    {
      "cell_type": "code",
      "metadata": {
        "id": "fE5EmK_ppOIg",
        "colab": {
          "base_uri": "https://localhost:8080/",
          "height": 170
        },
        "outputId": "6ffb702d-c9d4-47fd-9690-e1859aa46155"
      },
      "source": [
        "# selecting features\n",
        "features = list(X_train.columns.values)\n",
        "features"
      ],
      "execution_count": null,
      "outputs": [
        {
          "output_type": "execute_result",
          "data": {
            "text/plain": [
              "['LISTING_KIND',\n",
              " 'LISTING_PRICE',\n",
              " 'LISTING_REGISTRATION_POSSIBLE',\n",
              " 'ADVERTISER_COMPLETENESS_SCORE',\n",
              " 'HAS_PROFILE_PIC',\n",
              " 'LOGIN_COUNTRY_CODE',\n",
              " 'MANAGED_ACCOUNT',\n",
              " 'BROWSER',\n",
              " 'OS']"
            ]
          },
          "metadata": {
            "tags": []
          },
          "execution_count": 38
        }
      ]
    },
    {
      "cell_type": "code",
      "metadata": {
        "id": "-P1-iuNGvhOl"
      },
      "source": [
        "sm = SMOTE(random_state=42)\n",
        "X_training, y_training = sm.fit_resample(X_training, y_training)"
      ],
      "execution_count": null,
      "outputs": []
    },
    {
      "cell_type": "code",
      "metadata": {
        "id": "rC9OrQetw7Mk",
        "colab": {
          "base_uri": "https://localhost:8080/",
          "height": 34
        },
        "outputId": "2e32ccda-383f-401a-c4b2-b3a14cfbe314"
      },
      "source": [
        "X_training.shape"
      ],
      "execution_count": null,
      "outputs": [
        {
          "output_type": "execute_result",
          "data": {
            "text/plain": [
              "(9496, 9)"
            ]
          },
          "metadata": {
            "tags": []
          },
          "execution_count": 40
        }
      ]
    },
    {
      "cell_type": "code",
      "metadata": {
        "id": "YNGZrmQVyEX4"
      },
      "source": [
        ""
      ],
      "execution_count": null,
      "outputs": []
    },
    {
      "cell_type": "markdown",
      "metadata": {
        "id": "tdVCPxF2xC7a"
      },
      "source": [
        "As seen in the new X_train shape, the size doubled where we upsampled the minority class (is scammer) to match the majority class (non scam)"
      ]
    },
    {
      "cell_type": "markdown",
      "metadata": {
        "id": "Bwx9tGHGru0l"
      },
      "source": [
        "Split train data into train and validation"
      ]
    },
    {
      "cell_type": "markdown",
      "metadata": {
        "id": "pZLRx3LdY5ZH"
      },
      "source": [
        "We will use random forest because in comparison with other models tested below, it was giving out the best recall and f1-score while only slightly decreasing performance.\n",
        "\n",
        "Moreover, as can be seen below, the test dataset has the target column missing."
      ]
    },
    {
      "cell_type": "code",
      "metadata": {
        "id": "eEu2vRimURxb",
        "colab": {
          "base_uri": "https://localhost:8080/",
          "height": 136
        },
        "outputId": "f9d27c1e-cb91-4654-eb65-db70735a45df"
      },
      "source": [
        "clf = RandomForestClassifier(n_estimators=1000)\n",
        "clf.fit(X_training , y_training)\n"
      ],
      "execution_count": null,
      "outputs": [
        {
          "output_type": "execute_result",
          "data": {
            "text/plain": [
              "RandomForestClassifier(bootstrap=True, class_weight=None, criterion='gini',\n",
              "                       max_depth=None, max_features='auto', max_leaf_nodes=None,\n",
              "                       min_impurity_decrease=0.0, min_impurity_split=None,\n",
              "                       min_samples_leaf=1, min_samples_split=2,\n",
              "                       min_weight_fraction_leaf=0.0, n_estimators=1000,\n",
              "                       n_jobs=None, oob_score=False, random_state=None,\n",
              "                       verbose=0, warm_start=False)"
            ]
          },
          "metadata": {
            "tags": []
          },
          "execution_count": 87
        }
      ]
    },
    {
      "cell_type": "code",
      "metadata": {
        "id": "2oLxABWyUqhb"
      },
      "source": [
        "y_pred = clf.predict(X_valid[features])\n"
      ],
      "execution_count": null,
      "outputs": []
    },
    {
      "cell_type": "code",
      "metadata": {
        "id": "gDBeysBcu_Nt",
        "colab": {
          "base_uri": "https://localhost:8080/",
          "height": 170
        },
        "outputId": "764b516c-7da8-4666-cf03-ecc39da1372d"
      },
      "source": [
        "target_names = ['Not Scammer', 'Scammer']\n",
        "print(classification_report(y_valid, y_pred, target_names=target_names))"
      ],
      "execution_count": null,
      "outputs": [
        {
          "output_type": "stream",
          "text": [
            "              precision    recall  f1-score   support\n",
            "\n",
            " Not Scammer       0.97      0.98      0.97     11044\n",
            "     Scammer       0.59      0.54      0.56       690\n",
            "\n",
            "    accuracy                           0.95     11734\n",
            "   macro avg       0.78      0.76      0.77     11734\n",
            "weighted avg       0.95      0.95      0.95     11734\n",
            "\n"
          ],
          "name": "stdout"
        }
      ]
    },
    {
      "cell_type": "code",
      "metadata": {
        "id": "bR2AmPT2SXy0"
      },
      "source": [
        "clf = CatBoostClassifier(iterations=500,\n",
        "                             learning_rate=0.02,\n",
        "                             depth=12,\n",
        "                             eval_metric='AUC',\n",
        "                             bagging_temperature = 0.2,\n",
        "                             od_type='Iter',\n",
        "                             \n",
        "                             od_wait=100)"
      ],
      "execution_count": null,
      "outputs": []
    },
    {
      "cell_type": "code",
      "metadata": {
        "id": "CePVJprXSs16"
      },
      "source": [
        "clf.fit(X_training , y_training)\n"
      ],
      "execution_count": null,
      "outputs": []
    },
    {
      "cell_type": "code",
      "metadata": {
        "id": "x53DmujDSvRR"
      },
      "source": [
        "y_pred = clf.predict(X_valid[features])\n"
      ],
      "execution_count": null,
      "outputs": []
    },
    {
      "cell_type": "code",
      "metadata": {
        "id": "dnxl8sHrSv1d",
        "colab": {
          "base_uri": "https://localhost:8080/",
          "height": 170
        },
        "outputId": "273ce5da-0f4f-41b3-c772-e83a86c7168a"
      },
      "source": [
        "target_names = ['Not Scammer', 'Scammer']\n",
        "print(classification_report(y_valid, y_pred, target_names=target_names))"
      ],
      "execution_count": null,
      "outputs": [
        {
          "output_type": "stream",
          "text": [
            "              precision    recall  f1-score   support\n",
            "\n",
            " Not Scammer       0.97      0.97      0.97     11044\n",
            "     Scammer       0.57      0.57      0.57       690\n",
            "\n",
            "    accuracy                           0.95     11734\n",
            "   macro avg       0.77      0.77      0.77     11734\n",
            "weighted avg       0.95      0.95      0.95     11734\n",
            "\n"
          ],
          "name": "stdout"
        }
      ]
    },
    {
      "cell_type": "code",
      "metadata": {
        "id": "hLStmdUyTjw2",
        "colab": {
          "base_uri": "https://localhost:8080/",
          "height": 85
        },
        "outputId": "2a48acfe-0fbe-424f-e8cb-9d0feda8475d"
      },
      "source": [
        "from sklearn import svm\n",
        "from sklearn.svm import SVC\n",
        "clf = svm.SVC(gamma='scale', decision_function_shape='ovo')\n",
        "clf.fit(X_training , y_training)\n",
        "SVC(C=1.0, cache_size=200, class_weight=None, coef0=0.0,\n",
        "    decision_function_shape='ovo', degree=3, gamma='scale', kernel='rbf',\n",
        "    max_iter=500, probability=False, random_state=None, shrinking=True,\n",
        "    tol=0.001, verbose=False)"
      ],
      "execution_count": null,
      "outputs": [
        {
          "output_type": "execute_result",
          "data": {
            "text/plain": [
              "SVC(C=1.0, cache_size=200, class_weight=None, coef0=0.0,\n",
              "    decision_function_shape='ovo', degree=3, gamma='scale', kernel='rbf',\n",
              "    max_iter=500, probability=False, random_state=None, shrinking=True,\n",
              "    tol=0.001, verbose=False)"
            ]
          },
          "metadata": {
            "tags": []
          },
          "execution_count": 69
        }
      ]
    },
    {
      "cell_type": "code",
      "metadata": {
        "id": "jx_JXXVoTn7c"
      },
      "source": [
        "y_pred = clf.predict(X_valid[features])\n"
      ],
      "execution_count": null,
      "outputs": []
    },
    {
      "cell_type": "code",
      "metadata": {
        "id": "LSiQxk41TqE6",
        "colab": {
          "base_uri": "https://localhost:8080/",
          "height": 170
        },
        "outputId": "dc694148-651e-4b4b-b653-832f9c62056e"
      },
      "source": [
        "target_names = ['Not Scammer', 'Scammer']\n",
        "print(classification_report(y_valid, y_pred, target_names=target_names))"
      ],
      "execution_count": null,
      "outputs": [
        {
          "output_type": "stream",
          "text": [
            "              precision    recall  f1-score   support\n",
            "\n",
            " Not Scammer       0.98      0.79      0.87     11044\n",
            "     Scammer       0.17      0.70      0.27       690\n",
            "\n",
            "    accuracy                           0.78     11734\n",
            "   macro avg       0.57      0.74      0.57     11734\n",
            "weighted avg       0.93      0.78      0.84     11734\n",
            "\n"
          ],
          "name": "stdout"
        }
      ]
    },
    {
      "cell_type": "code",
      "metadata": {
        "id": "HFegqjATUHTC"
      },
      "source": [
        "from sklearn.datasets import load_iris\n",
        "from sklearn.linear_model import LogisticRegression\n",
        "\n",
        "clf = LogisticRegression(max_iter=500, random_state=0, solver='lbfgs',\n",
        "                        multi_class='multinomial').fit(X_training , y_training)"
      ],
      "execution_count": null,
      "outputs": []
    },
    {
      "cell_type": "code",
      "metadata": {
        "id": "ty1_pJqHULXq"
      },
      "source": [
        "y_pred = clf.predict(X_valid[features])\n"
      ],
      "execution_count": null,
      "outputs": []
    },
    {
      "cell_type": "code",
      "metadata": {
        "id": "NDVNZVA0UNkE",
        "colab": {
          "base_uri": "https://localhost:8080/",
          "height": 170
        },
        "outputId": "61909298-41cc-4cc4-d8a9-26213645e60d"
      },
      "source": [
        "target_names = ['Not Scammer', 'Scammer']\n",
        "print(classification_report(y_valid, y_pred, target_names=target_names))"
      ],
      "execution_count": null,
      "outputs": [
        {
          "output_type": "stream",
          "text": [
            "              precision    recall  f1-score   support\n",
            "\n",
            " Not Scammer       0.98      0.80      0.88     11044\n",
            "     Scammer       0.20      0.80      0.31       690\n",
            "\n",
            "    accuracy                           0.80     11734\n",
            "   macro avg       0.59      0.80      0.60     11734\n",
            "weighted avg       0.94      0.80      0.85     11734\n",
            "\n"
          ],
          "name": "stdout"
        }
      ]
    },
    {
      "cell_type": "code",
      "metadata": {
        "id": "HD9ceMVGmFZn",
        "colab": {
          "base_uri": "https://localhost:8080/",
          "height": 473
        },
        "outputId": "2fdf8bce-5d4c-44b8-f474-2d8d80c07a19"
      },
      "source": [
        "tmp = pd.DataFrame({'Feature': features, 'Feature importance': clf.feature_importances_})\n",
        "tmp = tmp.sort_values(by='Feature importance',ascending=False)\n",
        "plt.figure(figsize = (7,4))\n",
        "plt.title('Features importance',fontsize=14)\n",
        "s = sns.barplot(x='Feature',y='Feature importance',data=tmp)\n",
        "s.set_xticklabels(s.get_xticklabels(),rotation=90)\n",
        "plt.show()   \n"
      ],
      "execution_count": null,
      "outputs": [
        {
          "output_type": "display_data",
          "data": {
            "image/png": "[encoded data removed]",
            "text/plain": [
              "<Figure size 504x288 with 1 Axes>"
            ]
          },
          "metadata": {
            "tags": []
          }
        }
      ]
    },
    {
      "cell_type": "markdown",
      "metadata": {
        "id": "xYuoWBkm2FqL"
      },
      "source": [
        "# Test Prediction"
      ]
    },
    {
      "cell_type": "code",
      "metadata": {
        "id": "DmGh4zSdqZHA"
      },
      "source": [
        "test_set_predictions = clf.predict(X_test[features])\n"
      ],
      "execution_count": null,
      "outputs": []
    },
    {
      "cell_type": "code",
      "metadata": {
        "id": "G7jacVlzq9nT"
      },
      "source": [
        "df_test['Prediction'] = test_set_predictions"
      ],
      "execution_count": null,
      "outputs": []
    },
    {
      "cell_type": "code",
      "metadata": {
        "id": "UNApgrt21qV5",
        "colab": {
          "base_uri": "https://localhost:8080/",
          "height": 1000
        },
        "outputId": "a8df8f0d-c554-402c-b52e-5747799073b2"
      },
      "source": [
        "df_test.head(50)"
      ],
      "execution_count": null,
      "outputs": [
        {
          "output_type": "execute_result",
          "data": {
            "text/html": [
              "<div>\n",
              "<style scoped>\n",
              "    .dataframe tbody tr th:only-of-type {\n",
              "        vertical-align: middle;\n",
              "    }\n",
              "\n",
              "    .dataframe tbody tr th {\n",
              "        vertical-align: top;\n",
              "    }\n",
              "\n",
              "    .dataframe thead th {\n",
              "        text-align: right;\n",
              "    }\n",
              "</style>\n",
              "<table border=\"1\" class=\"dataframe\">\n",
              "  <thead>\n",
              "    <tr style=\"text-align: right;\">\n",
              "      <th></th>\n",
              "      <th>LISTING_KIND</th>\n",
              "      <th>LISTING_CITY</th>\n",
              "      <th>LISTING_PRICE</th>\n",
              "      <th>LOGIN_COUNTRY_CODE</th>\n",
              "      <th>LISTING_COUNTRY_CODE</th>\n",
              "      <th>LISTING_REGISTRATION_POSSIBLE</th>\n",
              "      <th>ADVERTISER_COMPLETENESS_SCORE</th>\n",
              "      <th>MANAGED_ACCOUNT</th>\n",
              "      <th>HAS_PROFILE_PIC</th>\n",
              "      <th>BROWSER</th>\n",
              "      <th>OS</th>\n",
              "      <th>ANONYMISED_EMAIL</th>\n",
              "      <th>Prediction</th>\n",
              "    </tr>\n",
              "  </thead>\n",
              "  <tbody>\n",
              "    <tr>\n",
              "      <th>0</th>\n",
              "      <td>1</td>\n",
              "      <td>Elche</td>\n",
              "      <td>155.00</td>\n",
              "      <td>es</td>\n",
              "      <td>es</td>\n",
              "      <td>0</td>\n",
              "      <td>35</td>\n",
              "      <td>False</td>\n",
              "      <td>1</td>\n",
              "      <td>Chrome</td>\n",
              "      <td>Android</td>\n",
              "      <td>drhzhephmeo@hotmail.com</td>\n",
              "      <td>0</td>\n",
              "    </tr>\n",
              "    <tr>\n",
              "      <th>1</th>\n",
              "      <td>1</td>\n",
              "      <td>Tilburg</td>\n",
              "      <td>420.00</td>\n",
              "      <td>nl</td>\n",
              "      <td>nl</td>\n",
              "      <td>1</td>\n",
              "      <td>40</td>\n",
              "      <td>False</td>\n",
              "      <td>1</td>\n",
              "      <td>Microsoft Edge</td>\n",
              "      <td>Windows</td>\n",
              "      <td>jorpr80ckig@gmail.com</td>\n",
              "      <td>0</td>\n",
              "    </tr>\n",
              "    <tr>\n",
              "      <th>2</th>\n",
              "      <td>1</td>\n",
              "      <td>Las Vegas</td>\n",
              "      <td>591.18</td>\n",
              "      <td>us</td>\n",
              "      <td>us</td>\n",
              "      <td>0</td>\n",
              "      <td>100</td>\n",
              "      <td>False</td>\n",
              "      <td>1</td>\n",
              "      <td>Mobile Safari</td>\n",
              "      <td>iOS</td>\n",
              "      <td>xaswrxawlgba@icloud.com</td>\n",
              "      <td>0</td>\n",
              "    </tr>\n",
              "    <tr>\n",
              "      <th>3</th>\n",
              "      <td>1</td>\n",
              "      <td>Utrecht</td>\n",
              "      <td>700.00</td>\n",
              "      <td>nl</td>\n",
              "      <td>nl</td>\n",
              "      <td>1</td>\n",
              "      <td>60</td>\n",
              "      <td>False</td>\n",
              "      <td>1</td>\n",
              "      <td>Firefox</td>\n",
              "      <td>Mac OS X</td>\n",
              "      <td>gnszyfo@universityhousing.nl</td>\n",
              "      <td>0</td>\n",
              "    </tr>\n",
              "    <tr>\n",
              "      <th>4</th>\n",
              "      <td>1</td>\n",
              "      <td>The Hague</td>\n",
              "      <td>600.00</td>\n",
              "      <td>fr</td>\n",
              "      <td>nl</td>\n",
              "      <td>1</td>\n",
              "      <td>54</td>\n",
              "      <td>False</td>\n",
              "      <td>1</td>\n",
              "      <td>Chrome</td>\n",
              "      <td>Windows</td>\n",
              "      <td>ttcjbtm@ziggo.nl</td>\n",
              "      <td>0</td>\n",
              "    </tr>\n",
              "    <tr>\n",
              "      <th>5</th>\n",
              "      <td>2</td>\n",
              "      <td>Milan</td>\n",
              "      <td>450.00</td>\n",
              "      <td>it</td>\n",
              "      <td>it</td>\n",
              "      <td>1</td>\n",
              "      <td>70</td>\n",
              "      <td>False</td>\n",
              "      <td>1</td>\n",
              "      <td>Chrome</td>\n",
              "      <td>Linux</td>\n",
              "      <td>pblfqjl@yiton.it</td>\n",
              "      <td>0</td>\n",
              "    </tr>\n",
              "    <tr>\n",
              "      <th>6</th>\n",
              "      <td>1</td>\n",
              "      <td>Valencia</td>\n",
              "      <td>450.00</td>\n",
              "      <td>es</td>\n",
              "      <td>es</td>\n",
              "      <td>0</td>\n",
              "      <td>50</td>\n",
              "      <td>False</td>\n",
              "      <td>1</td>\n",
              "      <td>Chrome</td>\n",
              "      <td>Windows</td>\n",
              "      <td>joknrljztnocnneq@gmail.com</td>\n",
              "      <td>0</td>\n",
              "    </tr>\n",
              "    <tr>\n",
              "      <th>7</th>\n",
              "      <td>2</td>\n",
              "      <td>Berkeley</td>\n",
              "      <td>954.98</td>\n",
              "      <td>us</td>\n",
              "      <td>us</td>\n",
              "      <td>1</td>\n",
              "      <td>50</td>\n",
              "      <td>False</td>\n",
              "      <td>1</td>\n",
              "      <td>Chrome</td>\n",
              "      <td>Windows</td>\n",
              "      <td>gmy.ppkfvmqwhjoevqvnvuyeii@gmail.com</td>\n",
              "      <td>0</td>\n",
              "    </tr>\n",
              "    <tr>\n",
              "      <th>8</th>\n",
              "      <td>0</td>\n",
              "      <td>Salamanca</td>\n",
              "      <td>700.00</td>\n",
              "      <td>gr</td>\n",
              "      <td>es</td>\n",
              "      <td>0</td>\n",
              "      <td>40</td>\n",
              "      <td>False</td>\n",
              "      <td>1</td>\n",
              "      <td>NaN</td>\n",
              "      <td>NaN</td>\n",
              "      <td>p.n.oa.m.b.atevvtmz@gmail.com</td>\n",
              "      <td>0</td>\n",
              "    </tr>\n",
              "    <tr>\n",
              "      <th>9</th>\n",
              "      <td>0</td>\n",
              "      <td>Los Angeles</td>\n",
              "      <td>1364.26</td>\n",
              "      <td>us</td>\n",
              "      <td>us</td>\n",
              "      <td>1</td>\n",
              "      <td>45</td>\n",
              "      <td>False</td>\n",
              "      <td>1</td>\n",
              "      <td>Chrome</td>\n",
              "      <td>Mac OS X</td>\n",
              "      <td>groqrvpis.efnog@gmail.com</td>\n",
              "      <td>0</td>\n",
              "    </tr>\n",
              "    <tr>\n",
              "      <th>10</th>\n",
              "      <td>0</td>\n",
              "      <td>Ho Chi Minh City</td>\n",
              "      <td>773.08</td>\n",
              "      <td>vn</td>\n",
              "      <td>vn</td>\n",
              "      <td>0</td>\n",
              "      <td>25</td>\n",
              "      <td>False</td>\n",
              "      <td>1</td>\n",
              "      <td>Chrome</td>\n",
              "      <td>Windows</td>\n",
              "      <td>ie@blanket-solution.com</td>\n",
              "      <td>1</td>\n",
              "    </tr>\n",
              "    <tr>\n",
              "      <th>11</th>\n",
              "      <td>0</td>\n",
              "      <td>Rotterdam</td>\n",
              "      <td>1000.00</td>\n",
              "      <td>nl</td>\n",
              "      <td>nl</td>\n",
              "      <td>1</td>\n",
              "      <td>71</td>\n",
              "      <td>False</td>\n",
              "      <td>1</td>\n",
              "      <td>Chrome</td>\n",
              "      <td>Android</td>\n",
              "      <td>qvumhz@live.nl</td>\n",
              "      <td>0</td>\n",
              "    </tr>\n",
              "    <tr>\n",
              "      <th>12</th>\n",
              "      <td>1</td>\n",
              "      <td>Rotterdam</td>\n",
              "      <td>590.00</td>\n",
              "      <td>nl</td>\n",
              "      <td>nl</td>\n",
              "      <td>1</td>\n",
              "      <td>62</td>\n",
              "      <td>False</td>\n",
              "      <td>1</td>\n",
              "      <td>Chrome</td>\n",
              "      <td>Android</td>\n",
              "      <td>msqpluhbgdop@live.com</td>\n",
              "      <td>0</td>\n",
              "    </tr>\n",
              "    <tr>\n",
              "      <th>13</th>\n",
              "      <td>0</td>\n",
              "      <td>Rotterdam</td>\n",
              "      <td>1525.00</td>\n",
              "      <td>nl</td>\n",
              "      <td>nl</td>\n",
              "      <td>1</td>\n",
              "      <td>40</td>\n",
              "      <td>False</td>\n",
              "      <td>1</td>\n",
              "      <td>Chrome</td>\n",
              "      <td>Windows</td>\n",
              "      <td>fjtuodlsdhsidx@gmail.com</td>\n",
              "      <td>0</td>\n",
              "    </tr>\n",
              "    <tr>\n",
              "      <th>14</th>\n",
              "      <td>0</td>\n",
              "      <td>Munich</td>\n",
              "      <td>1450.00</td>\n",
              "      <td>de</td>\n",
              "      <td>de</td>\n",
              "      <td>1</td>\n",
              "      <td>25</td>\n",
              "      <td>False</td>\n",
              "      <td>0</td>\n",
              "      <td>NaN</td>\n",
              "      <td>NaN</td>\n",
              "      <td>zujsy@frederics.eu</td>\n",
              "      <td>0</td>\n",
              "    </tr>\n",
              "    <tr>\n",
              "      <th>15</th>\n",
              "      <td>1</td>\n",
              "      <td>Rotterdam</td>\n",
              "      <td>650.00</td>\n",
              "      <td>nl</td>\n",
              "      <td>nl</td>\n",
              "      <td>1</td>\n",
              "      <td>20</td>\n",
              "      <td>False</td>\n",
              "      <td>0</td>\n",
              "      <td>Chrome</td>\n",
              "      <td>Mac OS X</td>\n",
              "      <td>z.g.kfudug@hr.nl</td>\n",
              "      <td>1</td>\n",
              "    </tr>\n",
              "    <tr>\n",
              "      <th>16</th>\n",
              "      <td>1</td>\n",
              "      <td>Rotterdam</td>\n",
              "      <td>295.00</td>\n",
              "      <td>nl</td>\n",
              "      <td>nl</td>\n",
              "      <td>1</td>\n",
              "      <td>30</td>\n",
              "      <td>False</td>\n",
              "      <td>1</td>\n",
              "      <td>Chrome</td>\n",
              "      <td>Mac OS X</td>\n",
              "      <td>tsgggq@contemporaryrotterdam.nl</td>\n",
              "      <td>0</td>\n",
              "    </tr>\n",
              "    <tr>\n",
              "      <th>17</th>\n",
              "      <td>1</td>\n",
              "      <td>Stockholm</td>\n",
              "      <td>563.22</td>\n",
              "      <td>se</td>\n",
              "      <td>se</td>\n",
              "      <td>1</td>\n",
              "      <td>75</td>\n",
              "      <td>False</td>\n",
              "      <td>1</td>\n",
              "      <td>Chrome</td>\n",
              "      <td>Android</td>\n",
              "      <td>kympkcmzmpcefsho@gmail.com</td>\n",
              "      <td>0</td>\n",
              "    </tr>\n",
              "    <tr>\n",
              "      <th>18</th>\n",
              "      <td>2</td>\n",
              "      <td>Turin</td>\n",
              "      <td>425.00</td>\n",
              "      <td>it</td>\n",
              "      <td>it</td>\n",
              "      <td>1</td>\n",
              "      <td>60</td>\n",
              "      <td>False</td>\n",
              "      <td>1</td>\n",
              "      <td>Chrome</td>\n",
              "      <td>Mac OS X</td>\n",
              "      <td>jrad@home112.com</td>\n",
              "      <td>0</td>\n",
              "    </tr>\n",
              "    <tr>\n",
              "      <th>19</th>\n",
              "      <td>1</td>\n",
              "      <td>Rotterdam</td>\n",
              "      <td>575.00</td>\n",
              "      <td>nl</td>\n",
              "      <td>nl</td>\n",
              "      <td>1</td>\n",
              "      <td>80</td>\n",
              "      <td>False</td>\n",
              "      <td>1</td>\n",
              "      <td>Chrome</td>\n",
              "      <td>Mac OS X</td>\n",
              "      <td>ozjtvrz@ishr.nl</td>\n",
              "      <td>0</td>\n",
              "    </tr>\n",
              "    <tr>\n",
              "      <th>20</th>\n",
              "      <td>0</td>\n",
              "      <td>Berlin</td>\n",
              "      <td>6000.00</td>\n",
              "      <td>de</td>\n",
              "      <td>de</td>\n",
              "      <td>1</td>\n",
              "      <td>81</td>\n",
              "      <td>False</td>\n",
              "      <td>1</td>\n",
              "      <td>Firefox</td>\n",
              "      <td>Windows</td>\n",
              "      <td>mpsbrsrl@vondereurope.com</td>\n",
              "      <td>0</td>\n",
              "    </tr>\n",
              "    <tr>\n",
              "      <th>21</th>\n",
              "      <td>0</td>\n",
              "      <td>Berlin</td>\n",
              "      <td>1095.00</td>\n",
              "      <td>de</td>\n",
              "      <td>de</td>\n",
              "      <td>1</td>\n",
              "      <td>50</td>\n",
              "      <td>False</td>\n",
              "      <td>1</td>\n",
              "      <td>Chrome</td>\n",
              "      <td>Windows</td>\n",
              "      <td>bzhvcjwhnqmezzhwb@gmail.com</td>\n",
              "      <td>0</td>\n",
              "    </tr>\n",
              "    <tr>\n",
              "      <th>22</th>\n",
              "      <td>1</td>\n",
              "      <td>Berlin</td>\n",
              "      <td>575.00</td>\n",
              "      <td>de</td>\n",
              "      <td>de</td>\n",
              "      <td>1</td>\n",
              "      <td>80</td>\n",
              "      <td>True</td>\n",
              "      <td>1</td>\n",
              "      <td>Firefox</td>\n",
              "      <td>Windows</td>\n",
              "      <td>oeehgezu473@housinganywhere.com</td>\n",
              "      <td>0</td>\n",
              "    </tr>\n",
              "    <tr>\n",
              "      <th>23</th>\n",
              "      <td>1</td>\n",
              "      <td>Barcelona</td>\n",
              "      <td>950.00</td>\n",
              "      <td>es</td>\n",
              "      <td>es</td>\n",
              "      <td>1</td>\n",
              "      <td>50</td>\n",
              "      <td>False</td>\n",
              "      <td>1</td>\n",
              "      <td>Chrome</td>\n",
              "      <td>Android</td>\n",
              "      <td>thrfigopiqy@gmail.com</td>\n",
              "      <td>1</td>\n",
              "    </tr>\n",
              "    <tr>\n",
              "      <th>24</th>\n",
              "      <td>0</td>\n",
              "      <td>Barcelona</td>\n",
              "      <td>1600.00</td>\n",
              "      <td>es</td>\n",
              "      <td>es</td>\n",
              "      <td>0</td>\n",
              "      <td>35</td>\n",
              "      <td>False</td>\n",
              "      <td>1</td>\n",
              "      <td>Chrome</td>\n",
              "      <td>Mac OS X</td>\n",
              "      <td>ufvr@lodgingapartments.com</td>\n",
              "      <td>0</td>\n",
              "    </tr>\n",
              "    <tr>\n",
              "      <th>25</th>\n",
              "      <td>1</td>\n",
              "      <td>Barcelona</td>\n",
              "      <td>830.00</td>\n",
              "      <td>es</td>\n",
              "      <td>es</td>\n",
              "      <td>0</td>\n",
              "      <td>60</td>\n",
              "      <td>False</td>\n",
              "      <td>1</td>\n",
              "      <td>Chrome</td>\n",
              "      <td>Mac OS X</td>\n",
              "      <td>tsx.sdtiam.chhfe@gmail.com</td>\n",
              "      <td>0</td>\n",
              "    </tr>\n",
              "    <tr>\n",
              "      <th>26</th>\n",
              "      <td>0</td>\n",
              "      <td>Barcelona</td>\n",
              "      <td>3350.00</td>\n",
              "      <td>es</td>\n",
              "      <td>es</td>\n",
              "      <td>1</td>\n",
              "      <td>90</td>\n",
              "      <td>False</td>\n",
              "      <td>1</td>\n",
              "      <td>Opera</td>\n",
              "      <td>Windows</td>\n",
              "      <td>yytlzcw@apartmentbarcelonarentals.com</td>\n",
              "      <td>0</td>\n",
              "    </tr>\n",
              "    <tr>\n",
              "      <th>27</th>\n",
              "      <td>1</td>\n",
              "      <td>Brussels</td>\n",
              "      <td>400.00</td>\n",
              "      <td>be</td>\n",
              "      <td>be</td>\n",
              "      <td>0</td>\n",
              "      <td>50</td>\n",
              "      <td>False</td>\n",
              "      <td>1</td>\n",
              "      <td>Chrome</td>\n",
              "      <td>Android</td>\n",
              "      <td>lezaqbkz@gmail.com</td>\n",
              "      <td>0</td>\n",
              "    </tr>\n",
              "    <tr>\n",
              "      <th>28</th>\n",
              "      <td>1</td>\n",
              "      <td>Brussels</td>\n",
              "      <td>345.00</td>\n",
              "      <td>be</td>\n",
              "      <td>be</td>\n",
              "      <td>1</td>\n",
              "      <td>50</td>\n",
              "      <td>False</td>\n",
              "      <td>1</td>\n",
              "      <td>Chrome</td>\n",
              "      <td>Windows</td>\n",
              "      <td>bafvzcefd@hotmail.com</td>\n",
              "      <td>0</td>\n",
              "    </tr>\n",
              "    <tr>\n",
              "      <th>29</th>\n",
              "      <td>1</td>\n",
              "      <td>Brussels</td>\n",
              "      <td>575.00</td>\n",
              "      <td>be</td>\n",
              "      <td>be</td>\n",
              "      <td>0</td>\n",
              "      <td>88</td>\n",
              "      <td>False</td>\n",
              "      <td>1</td>\n",
              "      <td>Chrome</td>\n",
              "      <td>Windows</td>\n",
              "      <td>kffv@ikoab.com</td>\n",
              "      <td>0</td>\n",
              "    </tr>\n",
              "    <tr>\n",
              "      <th>30</th>\n",
              "      <td>1</td>\n",
              "      <td>Rotterdam</td>\n",
              "      <td>650.00</td>\n",
              "      <td>nl</td>\n",
              "      <td>nl</td>\n",
              "      <td>1</td>\n",
              "      <td>15</td>\n",
              "      <td>False</td>\n",
              "      <td>0</td>\n",
              "      <td>Safari</td>\n",
              "      <td>Mac OS X</td>\n",
              "      <td>ibfidb4674@hotmail.com</td>\n",
              "      <td>0</td>\n",
              "    </tr>\n",
              "    <tr>\n",
              "      <th>31</th>\n",
              "      <td>0</td>\n",
              "      <td>Madrid</td>\n",
              "      <td>2798.00</td>\n",
              "      <td>es</td>\n",
              "      <td>es</td>\n",
              "      <td>0</td>\n",
              "      <td>45</td>\n",
              "      <td>False</td>\n",
              "      <td>1</td>\n",
              "      <td>Chrome</td>\n",
              "      <td>Windows</td>\n",
              "      <td>vqdlnzafx@alterhome.es</td>\n",
              "      <td>0</td>\n",
              "    </tr>\n",
              "    <tr>\n",
              "      <th>32</th>\n",
              "      <td>1</td>\n",
              "      <td>Barcelona</td>\n",
              "      <td>500.00</td>\n",
              "      <td>es</td>\n",
              "      <td>es</td>\n",
              "      <td>1</td>\n",
              "      <td>76</td>\n",
              "      <td>False</td>\n",
              "      <td>1</td>\n",
              "      <td>Mobile Safari</td>\n",
              "      <td>iOS</td>\n",
              "      <td>ximpxs.hbpfj@gmail.com</td>\n",
              "      <td>0</td>\n",
              "    </tr>\n",
              "    <tr>\n",
              "      <th>33</th>\n",
              "      <td>1</td>\n",
              "      <td>Rotterdam</td>\n",
              "      <td>575.00</td>\n",
              "      <td>nl</td>\n",
              "      <td>nl</td>\n",
              "      <td>1</td>\n",
              "      <td>60</td>\n",
              "      <td>False</td>\n",
              "      <td>1</td>\n",
              "      <td>NaN</td>\n",
              "      <td>NaN</td>\n",
              "      <td>juieahrzetws@gmail.com</td>\n",
              "      <td>0</td>\n",
              "    </tr>\n",
              "    <tr>\n",
              "      <th>34</th>\n",
              "      <td>1</td>\n",
              "      <td>Pisa</td>\n",
              "      <td>480.00</td>\n",
              "      <td>it</td>\n",
              "      <td>it</td>\n",
              "      <td>1</td>\n",
              "      <td>50</td>\n",
              "      <td>False</td>\n",
              "      <td>1</td>\n",
              "      <td>Chrome</td>\n",
              "      <td>Windows</td>\n",
              "      <td>xdkohoxdiqxixongcleh@gmail.com</td>\n",
              "      <td>0</td>\n",
              "    </tr>\n",
              "    <tr>\n",
              "      <th>35</th>\n",
              "      <td>0</td>\n",
              "      <td>Barcelona</td>\n",
              "      <td>1995.00</td>\n",
              "      <td>es</td>\n",
              "      <td>es</td>\n",
              "      <td>1</td>\n",
              "      <td>90</td>\n",
              "      <td>False</td>\n",
              "      <td>1</td>\n",
              "      <td>Chrome</td>\n",
              "      <td>Windows</td>\n",
              "      <td>kbdmu@atemporalrent.com</td>\n",
              "      <td>0</td>\n",
              "    </tr>\n",
              "    <tr>\n",
              "      <th>36</th>\n",
              "      <td>1</td>\n",
              "      <td>Barcelona</td>\n",
              "      <td>370.00</td>\n",
              "      <td>es</td>\n",
              "      <td>es</td>\n",
              "      <td>1</td>\n",
              "      <td>87</td>\n",
              "      <td>False</td>\n",
              "      <td>1</td>\n",
              "      <td>Chrome</td>\n",
              "      <td>Mac OS X</td>\n",
              "      <td>gjtpflzqjdjnlj9880@gmail.com</td>\n",
              "      <td>0</td>\n",
              "    </tr>\n",
              "    <tr>\n",
              "      <th>37</th>\n",
              "      <td>1</td>\n",
              "      <td>Brussels</td>\n",
              "      <td>600.00</td>\n",
              "      <td>be</td>\n",
              "      <td>be</td>\n",
              "      <td>1</td>\n",
              "      <td>70</td>\n",
              "      <td>False</td>\n",
              "      <td>1</td>\n",
              "      <td>Firefox</td>\n",
              "      <td>Windows</td>\n",
              "      <td>upua@casalacantus.be</td>\n",
              "      <td>0</td>\n",
              "    </tr>\n",
              "    <tr>\n",
              "      <th>38</th>\n",
              "      <td>2</td>\n",
              "      <td>Göteborg</td>\n",
              "      <td>398.95</td>\n",
              "      <td>se</td>\n",
              "      <td>se</td>\n",
              "      <td>0</td>\n",
              "      <td>35</td>\n",
              "      <td>False</td>\n",
              "      <td>1</td>\n",
              "      <td>Chrome</td>\n",
              "      <td>Windows</td>\n",
              "      <td>hfbdpksjdpdrq79@gmail.com</td>\n",
              "      <td>0</td>\n",
              "    </tr>\n",
              "    <tr>\n",
              "      <th>39</th>\n",
              "      <td>1</td>\n",
              "      <td>Córdoba</td>\n",
              "      <td>225.00</td>\n",
              "      <td>es</td>\n",
              "      <td>es</td>\n",
              "      <td>1</td>\n",
              "      <td>76</td>\n",
              "      <td>False</td>\n",
              "      <td>1</td>\n",
              "      <td>Chrome</td>\n",
              "      <td>Windows</td>\n",
              "      <td>jntq@interasmundo.com</td>\n",
              "      <td>0</td>\n",
              "    </tr>\n",
              "    <tr>\n",
              "      <th>40</th>\n",
              "      <td>1</td>\n",
              "      <td>Sheffield</td>\n",
              "      <td>680.80</td>\n",
              "      <td>gb</td>\n",
              "      <td>gb</td>\n",
              "      <td>0</td>\n",
              "      <td>40</td>\n",
              "      <td>False</td>\n",
              "      <td>1</td>\n",
              "      <td>Chrome</td>\n",
              "      <td>Mac OS X</td>\n",
              "      <td>dtizdjg.yrbftj@student.com</td>\n",
              "      <td>0</td>\n",
              "    </tr>\n",
              "    <tr>\n",
              "      <th>41</th>\n",
              "      <td>0</td>\n",
              "      <td>Los Angeles</td>\n",
              "      <td>4774.90</td>\n",
              "      <td>us</td>\n",
              "      <td>us</td>\n",
              "      <td>1</td>\n",
              "      <td>60</td>\n",
              "      <td>False</td>\n",
              "      <td>1</td>\n",
              "      <td>Chrome</td>\n",
              "      <td>Mac OS X</td>\n",
              "      <td>tbb@rexirvine.com</td>\n",
              "      <td>0</td>\n",
              "    </tr>\n",
              "    <tr>\n",
              "      <th>42</th>\n",
              "      <td>1</td>\n",
              "      <td>Florence</td>\n",
              "      <td>1195.00</td>\n",
              "      <td>at</td>\n",
              "      <td>it</td>\n",
              "      <td>1</td>\n",
              "      <td>45</td>\n",
              "      <td>False</td>\n",
              "      <td>1</td>\n",
              "      <td>Chrome</td>\n",
              "      <td>Windows</td>\n",
              "      <td>hiyrj.rxtfqdpw@thestudenthotel.com</td>\n",
              "      <td>0</td>\n",
              "    </tr>\n",
              "    <tr>\n",
              "      <th>43</th>\n",
              "      <td>0</td>\n",
              "      <td>Köln</td>\n",
              "      <td>1518.00</td>\n",
              "      <td>de</td>\n",
              "      <td>de</td>\n",
              "      <td>1</td>\n",
              "      <td>50</td>\n",
              "      <td>False</td>\n",
              "      <td>1</td>\n",
              "      <td>Safari</td>\n",
              "      <td>Mac OS X</td>\n",
              "      <td>pnck@arthouse.eu</td>\n",
              "      <td>0</td>\n",
              "    </tr>\n",
              "    <tr>\n",
              "      <th>44</th>\n",
              "      <td>1</td>\n",
              "      <td>Madrid</td>\n",
              "      <td>670.00</td>\n",
              "      <td>es</td>\n",
              "      <td>es</td>\n",
              "      <td>1</td>\n",
              "      <td>90</td>\n",
              "      <td>False</td>\n",
              "      <td>1</td>\n",
              "      <td>Safari</td>\n",
              "      <td>Mac OS X</td>\n",
              "      <td>glwfzieawxoz@get-comfortable.com</td>\n",
              "      <td>0</td>\n",
              "    </tr>\n",
              "    <tr>\n",
              "      <th>45</th>\n",
              "      <td>1</td>\n",
              "      <td>Barcelona</td>\n",
              "      <td>1222.00</td>\n",
              "      <td>at</td>\n",
              "      <td>es</td>\n",
              "      <td>1</td>\n",
              "      <td>45</td>\n",
              "      <td>False</td>\n",
              "      <td>1</td>\n",
              "      <td>Chrome</td>\n",
              "      <td>Windows</td>\n",
              "      <td>nhrrr.edjyvrtk@thestudenthotel.com</td>\n",
              "      <td>0</td>\n",
              "    </tr>\n",
              "    <tr>\n",
              "      <th>46</th>\n",
              "      <td>1</td>\n",
              "      <td>Milan</td>\n",
              "      <td>550.00</td>\n",
              "      <td>it</td>\n",
              "      <td>it</td>\n",
              "      <td>1</td>\n",
              "      <td>70</td>\n",
              "      <td>False</td>\n",
              "      <td>1</td>\n",
              "      <td>Safari</td>\n",
              "      <td>Mac OS X</td>\n",
              "      <td>ufhglqfwjjwa@protonmail.com</td>\n",
              "      <td>0</td>\n",
              "    </tr>\n",
              "    <tr>\n",
              "      <th>47</th>\n",
              "      <td>1</td>\n",
              "      <td>Florence</td>\n",
              "      <td>600.00</td>\n",
              "      <td>it</td>\n",
              "      <td>it</td>\n",
              "      <td>0</td>\n",
              "      <td>45</td>\n",
              "      <td>False</td>\n",
              "      <td>1</td>\n",
              "      <td>Chrome</td>\n",
              "      <td>Android</td>\n",
              "      <td>pidlnjaljtuhfmhpe@gmail.com</td>\n",
              "      <td>0</td>\n",
              "    </tr>\n",
              "    <tr>\n",
              "      <th>48</th>\n",
              "      <td>0</td>\n",
              "      <td>Florence</td>\n",
              "      <td>1500.00</td>\n",
              "      <td>it</td>\n",
              "      <td>it</td>\n",
              "      <td>1</td>\n",
              "      <td>70</td>\n",
              "      <td>False</td>\n",
              "      <td>1</td>\n",
              "      <td>Safari</td>\n",
              "      <td>Mac OS X</td>\n",
              "      <td>qest@suiteflorence.com</td>\n",
              "      <td>0</td>\n",
              "    </tr>\n",
              "    <tr>\n",
              "      <th>49</th>\n",
              "      <td>0</td>\n",
              "      <td>Turin</td>\n",
              "      <td>380.00</td>\n",
              "      <td>it</td>\n",
              "      <td>it</td>\n",
              "      <td>1</td>\n",
              "      <td>60</td>\n",
              "      <td>False</td>\n",
              "      <td>1</td>\n",
              "      <td>Chrome</td>\n",
              "      <td>Linux</td>\n",
              "      <td>tbaetp80@gmail.com</td>\n",
              "      <td>0</td>\n",
              "    </tr>\n",
              "  </tbody>\n",
              "</table>\n",
              "</div>"
            ],
            "text/plain": [
              "    LISTING_KIND  ... Prediction\n",
              "0              1  ...          0\n",
              "1              1  ...          0\n",
              "2              1  ...          0\n",
              "3              1  ...          0\n",
              "4              1  ...          0\n",
              "5              2  ...          0\n",
              "6              1  ...          0\n",
              "7              2  ...          0\n",
              "8              0  ...          0\n",
              "9              0  ...          0\n",
              "10             0  ...          1\n",
              "11             0  ...          0\n",
              "12             1  ...          0\n",
              "13             0  ...          0\n",
              "14             0  ...          0\n",
              "15             1  ...          1\n",
              "16             1  ...          0\n",
              "17             1  ...          0\n",
              "18             2  ...          0\n",
              "19             1  ...          0\n",
              "20             0  ...          0\n",
              "21             0  ...          0\n",
              "22             1  ...          0\n",
              "23             1  ...          1\n",
              "24             0  ...          0\n",
              "25             1  ...          0\n",
              "26             0  ...          0\n",
              "27             1  ...          0\n",
              "28             1  ...          0\n",
              "29             1  ...          0\n",
              "30             1  ...          0\n",
              "31             0  ...          0\n",
              "32             1  ...          0\n",
              "33             1  ...          0\n",
              "34             1  ...          0\n",
              "35             0  ...          0\n",
              "36             1  ...          0\n",
              "37             1  ...          0\n",
              "38             2  ...          0\n",
              "39             1  ...          0\n",
              "40             1  ...          0\n",
              "41             0  ...          0\n",
              "42             1  ...          0\n",
              "43             0  ...          0\n",
              "44             1  ...          0\n",
              "45             1  ...          0\n",
              "46             1  ...          0\n",
              "47             1  ...          0\n",
              "48             0  ...          0\n",
              "49             0  ...          0\n",
              "\n",
              "[50 rows x 13 columns]"
            ]
          },
          "metadata": {
            "tags": []
          },
          "execution_count": 92
        }
      ]
    },
    {
      "cell_type": "code",
      "metadata": {
        "id": "-A3o5Ss61woJ",
        "colab": {
          "base_uri": "https://localhost:8080/",
          "height": 68
        },
        "outputId": "968cbdd5-5974-4687-d223-217bed8e607c"
      },
      "source": [
        "df_test.Prediction.value_counts()\n"
      ],
      "execution_count": null,
      "outputs": [
        {
          "output_type": "execute_result",
          "data": {
            "text/plain": [
              "0    1759\n",
              "1     159\n",
              "Name: Prediction, dtype: int64"
            ]
          },
          "metadata": {
            "tags": []
          },
          "execution_count": 93
        }
      ]
    },
    {
      "cell_type": "code",
      "metadata": {
        "id": "wKCvuSKT2ABm"
      },
      "source": [
        ""
      ],
      "execution_count": null,
      "outputs": []
    }
  ]
}